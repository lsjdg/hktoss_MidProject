{
 "cells": [
  {
   "cell_type": "code",
   "execution_count": 3,
   "id": "ce46fe95-56bd-4b8c-906a-39cf2f1cfef0",
   "metadata": {},
   "outputs": [
    {
     "data": {
      "text/plain": [
       "(3052, 2)"
      ]
     },
     "execution_count": 3,
     "metadata": {},
     "output_type": "execute_result"
    }
   ],
   "source": [
    "import pandas as pd\n",
    "\n",
    "seoul = pd.read_excel('data/comments_seoul.xlsx')\n",
    "seoul_df = pd.DataFrame(seoul)\n",
    "seoul_df.shape"
   ]
  },
  {
   "cell_type": "code",
   "execution_count": 4,
   "id": "c11d8f12-1840-4536-8735-4f50061c8b00",
   "metadata": {},
   "outputs": [
    {
     "data": {
      "text/plain": [
       "(2741, 2)"
      ]
     },
     "execution_count": 4,
     "metadata": {},
     "output_type": "execute_result"
    }
   ],
   "source": [
    "hongdae = pd.read_excel('data/comments_hongdae.xlsx')\n",
    "hongdae_df = pd.DataFrame(hongdae)\n",
    "hongdae_df.shape"
   ]
  },
  {
   "cell_type": "code",
   "execution_count": 5,
   "id": "1ba03dea-71c6-4d49-89c7-2909c89b2671",
   "metadata": {},
   "outputs": [
    {
     "data": {
      "text/plain": [
       "(5793, 2)"
      ]
     },
     "execution_count": 5,
     "metadata": {},
     "output_type": "execute_result"
    }
   ],
   "source": [
    "all_comments = pd.concat([seoul_df, hongdae_df], ignore_index=True)\n",
    "all_comments.shape"
   ]
  },
  {
   "cell_type": "code",
   "execution_count": 8,
   "id": "6119621c-deb1-481b-b4ee-0ce2e062e18f",
   "metadata": {},
   "outputs": [
    {
     "data": {
      "text/html": [
       "<div>\n",
       "<style scoped>\n",
       "    .dataframe tbody tr th:only-of-type {\n",
       "        vertical-align: middle;\n",
       "    }\n",
       "\n",
       "    .dataframe tbody tr th {\n",
       "        vertical-align: top;\n",
       "    }\n",
       "\n",
       "    .dataframe thead th {\n",
       "        text-align: right;\n",
       "    }\n",
       "</style>\n",
       "<table border=\"1\" class=\"dataframe\">\n",
       "  <thead>\n",
       "    <tr style=\"text-align: right;\">\n",
       "      <th></th>\n",
       "      <th>contents</th>\n",
       "      <th>point</th>\n",
       "    </tr>\n",
       "  </thead>\n",
       "  <tbody>\n",
       "    <tr>\n",
       "      <th>0</th>\n",
       "      <td>다 알바임?\\n\\n밥은 말랐고 회는 ..\\n\\n하.. \\n\\n오랜만이네 1점.</td>\n",
       "      <td>1</td>\n",
       "    </tr>\n",
       "    <tr>\n",
       "      <th>1</th>\n",
       "      <td>세번 방문했는데 갈 때마다 만족했습니다. 바쁘고 정신 없을텐데도 사장님분들 넘 친절...</td>\n",
       "      <td>5</td>\n",
       "    </tr>\n",
       "    <tr>\n",
       "      <th>2</th>\n",
       "      <td>친절하신데ㅜ 초밥 맛은 그냥...</td>\n",
       "      <td>3</td>\n",
       "    </tr>\n",
       "    <tr>\n",
       "      <th>3</th>\n",
       "      <td>가장 먹을만한게 활어라 활어를 3-4번 시켜먹었는데 그만 먹길 바라셨는지.. 제가 ...</td>\n",
       "      <td>2</td>\n",
       "    </tr>\n",
       "    <tr>\n",
       "      <th>4</th>\n",
       "      <td>가성비 좋고, 사장님도 너무 친절하셨어요👍🏻👍🏻</td>\n",
       "      <td>4</td>\n",
       "    </tr>\n",
       "  </tbody>\n",
       "</table>\n",
       "</div>"
      ],
      "text/plain": [
       "                                            contents  point\n",
       "0        다 알바임?\\n\\n밥은 말랐고 회는 ..\\n\\n하.. \\n\\n오랜만이네 1점.      1\n",
       "1  세번 방문했는데 갈 때마다 만족했습니다. 바쁘고 정신 없을텐데도 사장님분들 넘 친절...      5\n",
       "2                                친절하신데ㅜ 초밥 맛은 그냥...       3\n",
       "3  가장 먹을만한게 활어라 활어를 3-4번 시켜먹었는데 그만 먹길 바라셨는지.. 제가 ...      2\n",
       "4                         가성비 좋고, 사장님도 너무 친절하셨어요👍🏻👍🏻      4"
      ]
     },
     "execution_count": 8,
     "metadata": {},
     "output_type": "execute_result"
    }
   ],
   "source": [
    "all_comments.head()"
   ]
  },
  {
   "cell_type": "code",
   "execution_count": 7,
   "id": "76620016-08f9-4e08-bb29-adfbd315d69f",
   "metadata": {},
   "outputs": [
    {
     "data": {
      "text/plain": [
       "<Axes: xlabel='point'>"
      ]
     },
     "execution_count": 7,
     "metadata": {},
     "output_type": "execute_result"
    },
    {
     "data": {
      "image/png": "[encoded data removed]",
      "text/plain": [
       "<Figure size 640x480 with 1 Axes>"
      ]
     },
     "metadata": {},
     "output_type": "display_data"
    }
   ],
   "source": [
    "all_comments['point'].value_counts().plot(kind='bar')"
   ]
  },
  {
   "cell_type": "code",
   "execution_count": 6,
   "id": "f475cbcc-145e-4cac-90b1-d10b68583178",
   "metadata": {},
   "outputs": [],
   "source": [
    "all_comments.to_excel('data/all_comments.xlsx')"
   ]
  }
 ],
 "metadata": {
  "kernelspec": {
   "display_name": "Python 3 (ipykernel)",
   "language": "python",
   "name": "python3"
  },
  "language_info": {
   "codemirror_mode": {
    "name": "ipython",
    "version": 3
   },
   "file_extension": ".py",
   "mimetype": "text/x-python",
   "name": "python",
   "nbconvert_exporter": "python",
   "pygments_lexer": "ipython3",
   "version": "3.8.18"
  }
 },
 "nbformat": 4,
 "nbformat_minor": 5
}
