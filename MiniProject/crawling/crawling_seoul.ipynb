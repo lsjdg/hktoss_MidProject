{
 "cells": [
  {
   "cell_type": "code",
   "execution_count": 1,
   "id": "348c430b-5c54-4f4f-ad40-60e47546440d",
   "metadata": {},
   "outputs": [],
   "source": [
    "import requests\n",
    "\n",
    "REST_API_KEY = '2fa4da0b370eee3234c565b78ecff325'\n",
    "# url 의 ? 뒤쪽은 쿼리 파라미터\n",
    "# keyword의 주변 반경 1km 내의 맛집 찾기\n",
    "KEYWORD_LOCAL_URL = 'https://dapi.kakao.com/v2/local/search/keyword.json?query={}&radius=1000'\n",
    "\n",
    "keywords=['서울역', '홍대입구역']"
   ]
  },
  {
   "cell_type": "code",
   "execution_count": 2,
   "id": "2498a9cb-eade-48bb-8b05-a4aa6828b4bb",
   "metadata": {},
   "outputs": [
    {
     "data": {
      "text/plain": [
       "<Response [200]>"
      ]
     },
     "execution_count": 2,
     "metadata": {},
     "output_type": "execute_result"
    }
   ],
   "source": [
    "# header 에 인증 정보 추가 (안하면 401 error)\n",
    "headers = {\n",
    "    'Authorization' : f'KakaoAK {REST_API_KEY}'\n",
    "}\n",
    "response = requests.get(KEYWORD_LOCAL_URL.format(keywords[0] + '맛집'), headers=headers)\n",
    "response"
   ]
  },
  {
   "cell_type": "code",
   "execution_count": 3,
   "id": "87c3a170-c914-4eec-9bb8-1bc7e7644c10",
   "metadata": {},
   "outputs": [
    {
     "name": "stdout",
     "output_type": "stream",
     "text": [
      "{'address_name': '서울 중구 남대문로5가 84-11', 'category_group_code': 'FD6', 'category_group_name': '음식점', 'category_name': '음식점 > 일식 > 초밥,롤', 'distance': '', 'id': '21398341', 'phone': '02-2259-0088', 'place_name': '해랑스시', 'place_url': 'http://place.map.kakao.com/21398341', 'road_address_name': '서울 중구 통일로 10', 'x': '126.973544041677', 'y': '37.5570149191751'}\n",
      "{'address_name': '서울 중구 봉래동2가 122-11', 'category_group_code': 'FD6', 'category_group_name': '음식점', 'category_name': '음식점 > 양식 > 햄버거', 'distance': '', 'id': '614833390', 'phone': '', 'place_name': '파이브가이즈 서울역점', 'place_url': 'http://place.map.kakao.com/614833390', 'road_address_name': '서울 중구 한강대로 405', 'x': '126.970224215103', 'y': '37.5551319448191'}\n",
      "{'address_name': '서울 중구 남창동 47-10', 'category_group_code': 'FD6', 'category_group_name': '음식점', 'category_name': '음식점 > 한식 > 냉면', 'distance': '', 'id': '7914330', 'phone': '02-753-7728', 'place_name': '부원면옥', 'place_url': 'http://place.map.kakao.com/7914330', 'road_address_name': '서울 중구 남대문시장4길 41-6', 'x': '126.977604365846', 'y': '37.5584213149079'}\n",
      "{'address_name': '서울 용산구 서계동 220-5', 'category_group_code': 'CE7', 'category_group_name': '카페', 'category_name': '음식점 > 카페', 'distance': '', 'id': '401292599', 'phone': '02-6953-0338', 'place_name': '포컬포인트', 'place_url': 'http://place.map.kakao.com/401292599', 'road_address_name': '서울 용산구 청파로 387', 'x': '126.968787289857', 'y': '37.5542440909487'}\n",
      "{'address_name': '서울 중구 만리동1가 62-36', 'category_group_code': 'FD6', 'category_group_name': '음식점', 'category_name': '음식점 > 퓨전요리', 'distance': '', 'id': '26644530', 'phone': '02-312-0205', 'place_name': '베리키친', 'place_url': 'http://place.map.kakao.com/26644530', 'road_address_name': '서울 중구 만리재로 205', 'x': '126.9679717839545', 'y': '37.55581160850519'}\n",
      "{'address_name': '서울 용산구 동자동 23-30', 'category_group_code': 'FD6', 'category_group_name': '음식점', 'category_name': '음식점 > 양식 > 햄버거', 'distance': '', 'id': '1462731560', 'phone': '02-318-6649', 'place_name': '바스버거 후암점', 'place_url': 'http://place.map.kakao.com/1462731560', 'road_address_name': '서울 용산구 한강대로104길 32', 'x': '126.97403984565562', 'y': '37.55021790105989'}\n",
      "{'address_name': '서울 용산구 후암동 446-43', 'category_group_code': 'FD6', 'category_group_name': '음식점', 'category_name': '음식점 > 일식 > 일본식라면', 'distance': '', 'id': '1255299690', 'phone': '0507-1420-9787', 'place_name': '이이네', 'place_url': 'http://place.map.kakao.com/1255299690', 'road_address_name': '서울 용산구 소월로2길 37', 'x': '126.97665640829764', 'y': '37.55327733619637'}\n",
      "{'address_name': '서울 용산구 동자동 35-44', 'category_group_code': 'FD6', 'category_group_name': '음식점', 'category_name': '음식점 > 한식 > 해물,생선 > 장어', 'distance': '', 'id': '16039548', 'phone': '02-777-4380', 'place_name': '일미장어', 'place_url': 'http://place.map.kakao.com/16039548', 'road_address_name': '서울 용산구 후암로57길 35-15', 'x': '126.974532597049', 'y': '37.5521281247113'}\n",
      "{'address_name': '서울 중구 남창동 203-15', 'category_group_code': 'FD6', 'category_group_name': '음식점', 'category_name': '음식점 > 일식 > 돈까스,우동', 'distance': '', 'id': '27244728', 'phone': '02-777-1976', 'place_name': '남산돈가스', 'place_url': 'http://place.map.kakao.com/27244728', 'road_address_name': '서울 중구 소파로 23', 'x': '126.979651249572', 'y': '37.5561115282112'}\n",
      "{'address_name': '서울 중구 서소문동 120-35', 'category_group_code': 'FD6', 'category_group_name': '음식점', 'category_name': '음식점 > 한식 > 국수', 'distance': '', 'id': '11152625', 'phone': '02-753-5388', 'place_name': '진주회관', 'place_url': 'http://place.map.kakao.com/11152625', 'road_address_name': '서울 중구 세종대로11길 26', 'x': '126.97453133779806', 'y': '37.562478781861735'}\n",
      "{'address_name': '서울 용산구 서계동 219-4', 'category_group_code': 'FD6', 'category_group_name': '음식점', 'category_name': '음식점 > 한식 > 감자탕', 'distance': '', 'id': '21445943', 'phone': '02-797-1900', 'place_name': '24시용산원조감자탕', 'place_url': 'http://place.map.kakao.com/21445943', 'road_address_name': '서울 용산구 청파로 393', 'x': '126.968791614577', 'y': '37.5547288288855'}\n",
      "{'address_name': '서울 중구 봉래동1가 25', 'category_group_code': 'FD6', 'category_group_name': '음식점', 'category_name': '음식점 > 한식 > 한정식', 'distance': '', 'id': '1102847581', 'phone': '02-318-4997', 'place_name': '해담채 시청점', 'place_url': 'http://place.map.kakao.com/1102847581', 'road_address_name': '서울 중구 칠패로 37', 'x': '126.973026854861', 'y': '37.5600817964388'}\n",
      "{'address_name': '서울 중구 중림동 150-1', 'category_group_code': 'FD6', 'category_group_name': '음식점', 'category_name': '음식점 > 한식', 'distance': '', 'id': '302317049', 'phone': '02-3147-0365', 'place_name': '도마 중림점', 'place_url': 'http://place.map.kakao.com/302317049', 'road_address_name': '서울 중구 중림로 31', 'x': '126.96716947162', 'y': '37.5581846152161'}\n",
      "{'address_name': '서울 중구 남창동 34-116', 'category_group_code': 'FD6', 'category_group_name': '음식점', 'category_name': '음식점 > 한식 > 해물,생선', 'distance': '', 'id': '8081393', 'phone': '02-752-2892', 'place_name': '중앙식당', 'place_url': 'http://place.map.kakao.com/8081393', 'road_address_name': '서울 중구 남대문시장길 22-12', 'x': '126.977078804427', 'y': '37.5597799176267'}\n",
      "{'address_name': '서울 중구 남대문로5가 120', 'category_group_code': 'FD6', 'category_group_name': '음식점', 'category_name': '음식점 > 한식 > 냉면', 'distance': '', 'id': '1644608542', 'phone': '02-318-8766', 'place_name': '서령', 'place_url': 'http://place.map.kakao.com/1644608542', 'road_address_name': '서울 중구 소월로 10', 'x': '126.97549698076399', 'y': '37.55846234223722'}\n",
      "{'address_name': '서울 중구 남창동 50-48', 'category_group_code': 'FD6', 'category_group_name': '음식점', 'category_name': '음식점 > 한식 > 해물,생선 > 회', 'distance': '', 'id': '10335617', 'phone': '02-755-5115', 'place_name': '막내회집 본점', 'place_url': 'http://place.map.kakao.com/10335617', 'road_address_name': '서울 중구 남대문시장2가길 2', 'x': '126.97673033697879', 'y': '37.55937259882099'}\n",
      "{'address_name': '서울 중구 만리동1가 62-14', 'category_group_code': 'FD6', 'category_group_name': '음식점', 'category_name': '음식점 > 한식 > 육류,고기 > 갈비', 'distance': '', 'id': '2092235998', 'phone': '02-6949-3532', 'place_name': '봉래축산', 'place_url': 'http://place.map.kakao.com/2092235998', 'road_address_name': '서울 중구 만리재로35길 6', 'x': '126.967626719735', 'y': '37.5555430171222'}\n",
      "{'address_name': '서울 중구 봉래동2가 122-11', 'category_group_code': 'FD6', 'category_group_name': '음식점', 'category_name': '음식점 > 중식 > 중국요리', 'distance': '', 'id': '450580125', 'phone': '02-392-0985', 'place_name': '도원스타일 서울역점', 'place_url': 'http://place.map.kakao.com/450580125', 'road_address_name': '서울 중구 한강대로 405', 'x': '126.97066576480943', 'y': '37.55468425948858'}\n",
      "{'address_name': '서울 중구 남대문로5가 631', 'category_group_code': 'FD6', 'category_group_name': '음식점', 'category_name': '음식점 > 중식', 'distance': '', 'id': '12077369', 'phone': '02-753-5693', 'place_name': '만복림', 'place_url': 'http://place.map.kakao.com/12077369', 'road_address_name': '서울 중구 후암로 98', 'x': '126.975048075101', 'y': '37.5538365269761'}\n",
      "{'address_name': '서울 중구 남대문로5가 541', 'category_group_code': 'FD6', 'category_group_name': '음식점', 'category_name': '음식점 > 한식 > 한정식', 'distance': '', 'id': '26596136', 'phone': '02-6456-8991', 'place_name': '해초섬 서울스퀘어점', 'place_url': 'http://place.map.kakao.com/26596136', 'road_address_name': '서울 중구 한강대로 416', 'x': '126.973861454852', 'y': '37.5555229380185'}\n",
      "{'address_name': '서울 용산구 동자동 23-29', 'category_group_code': 'FD6', 'category_group_name': '음식점', 'category_name': '음식점 > 한식 > 국수 > 칼국수', 'distance': '', 'id': '9963594', 'phone': '02-754-1123', 'place_name': '충무칼국수', 'place_url': 'http://place.map.kakao.com/9963594', 'road_address_name': '서울 용산구 한강대로104길 38', 'x': '126.974374820294', 'y': '37.550203558256'}\n",
      "{'address_name': '서울 중구 남창동 34-34', 'category_group_code': 'FD6', 'category_group_name': '음식점', 'category_name': '음식점 > 한식 > 해물,생선', 'distance': '', 'id': '8670706', 'phone': '02-755-3449', 'place_name': '희락갈치', 'place_url': 'http://place.map.kakao.com/8670706', 'road_address_name': '서울 중구 남대문시장길 22-6', 'x': '126.97710366926631', 'y': '37.55989344806759'}\n",
      "{'address_name': '서울 용산구 동자동 42-9', 'category_group_code': 'FD6', 'category_group_name': '음식점', 'category_name': '음식점 > 한식 > 육류,고기 > 오리', 'distance': '', 'id': '986888165', 'phone': '02-6080-6852', 'place_name': '돈오리', 'place_url': 'http://place.map.kakao.com/986888165', 'road_address_name': '서울 용산구 한강대로102길 3', 'x': '126.972365098288', 'y': '37.549943617455'}\n",
      "{'address_name': '서울 중구 봉래동2가 122-11', 'category_group_code': 'CE7', 'category_group_name': '카페', 'category_name': '음식점 > 카페 > 커피전문점 > 스타벅스', 'distance': '', 'id': '67078466', 'phone': '1522-3232', 'place_name': '스타벅스 서울역사점', 'place_url': 'http://place.map.kakao.com/67078466', 'road_address_name': '서울 중구 한강대로 405', 'x': '126.97170262546341', 'y': '37.55414661686299'}\n",
      "{'address_name': '서울 용산구 서계동 223-42', 'category_group_code': 'FD6', 'category_group_name': '음식점', 'category_name': '음식점 > 분식 > 떡볶이', 'distance': '', 'id': '1711121947', 'phone': '02-703-7222', 'place_name': '서울역철도떡볶이', 'place_url': 'http://place.map.kakao.com/1711121947', 'road_address_name': '서울 용산구 청파로93길 18-1', 'x': '126.96784227048317', 'y': '37.554330333139326'}\n",
      "{'address_name': '서울 용산구 후암동 1-43', 'category_group_code': 'CE7', 'category_group_name': '카페', 'category_name': '음식점 > 카페', 'distance': '', 'id': '13582387', 'phone': '070-8269-0715', 'place_name': '엘카페커피로스터스', 'place_url': 'http://place.map.kakao.com/13582387', 'road_address_name': '서울 용산구 후암로 68', 'x': '126.97711288346454', 'y': '37.55197007737681'}\n",
      "{'address_name': '서울 중구 남대문로5가 195', 'category_group_code': 'FD6', 'category_group_name': '음식점', 'category_name': '음식점 > 한식 > 육류,고기', 'distance': '', 'id': '1398440352', 'phone': '02-771-7187', 'place_name': '삼수갑산', 'place_url': 'http://place.map.kakao.com/1398440352', 'road_address_name': '서울 중구 세종대로4길 25', 'x': '126.975368191068', 'y': '37.5577541316268'}\n",
      "{'address_name': '서울 중구 봉래동2가 122-11', 'category_group_code': 'FD6', 'category_group_name': '음식점', 'category_name': '음식점 > 패스트푸드 > 맥도날드', 'distance': '', 'id': '10346282', 'phone': '02-6743-1400', 'place_name': '맥도날드 서울역점', 'place_url': 'http://place.map.kakao.com/10346282', 'road_address_name': '서울 중구 한강대로 405', 'x': '126.97060907715965', 'y': '37.55494283173466'}\n",
      "{'address_name': '서울 중구 봉래동2가 122-11', 'category_group_code': 'FD6', 'category_group_name': '음식점', 'category_name': '음식점 > 일식 > 토끼정', 'distance': '', 'id': '954522598', 'phone': '02-362-9401', 'place_name': '토끼정 KTX서울역사점', 'place_url': 'http://place.map.kakao.com/954522598', 'road_address_name': '서울 중구 한강대로 405', 'x': '126.97005413312112', 'y': '37.55593829465701'}\n",
      "{'address_name': '서울 중구 중림동 200', 'category_group_code': 'FD6', 'category_group_name': '음식점', 'category_name': '음식점 > 한식 > 육류,고기 > 갈비', 'distance': '', 'id': '34995480', 'phone': '02-312-6166', 'place_name': '서울우진갈비', 'place_url': 'http://place.map.kakao.com/34995480', 'road_address_name': '서울 중구 중림로 10', 'x': '126.9665673787', 'y': '37.5581592183411'}\n",
      "{'address_name': '서울 중구 남창동 50-48', 'category_group_code': 'FD6', 'category_group_name': '음식점', 'category_name': '음식점 > 한식 > 해물,생선 > 회', 'distance': '', 'id': '10335617', 'phone': '02-755-5115', 'place_name': '막내회집 본점', 'place_url': 'http://place.map.kakao.com/10335617', 'road_address_name': '서울 중구 남대문시장2가길 2', 'x': '126.97673033697879', 'y': '37.55937259882099'}\n",
      "{'address_name': '서울 중구 만리동1가 62-14', 'category_group_code': 'FD6', 'category_group_name': '음식점', 'category_name': '음식점 > 한식 > 육류,고기 > 갈비', 'distance': '', 'id': '2092235998', 'phone': '02-6949-3532', 'place_name': '봉래축산', 'place_url': 'http://place.map.kakao.com/2092235998', 'road_address_name': '서울 중구 만리재로35길 6', 'x': '126.967626719735', 'y': '37.5555430171222'}\n",
      "{'address_name': '서울 중구 봉래동2가 122-11', 'category_group_code': 'FD6', 'category_group_name': '음식점', 'category_name': '음식점 > 중식 > 중국요리', 'distance': '', 'id': '450580125', 'phone': '02-392-0985', 'place_name': '도원스타일 서울역점', 'place_url': 'http://place.map.kakao.com/450580125', 'road_address_name': '서울 중구 한강대로 405', 'x': '126.97066576480943', 'y': '37.55468425948858'}\n",
      "{'address_name': '서울 중구 남대문로5가 631', 'category_group_code': 'FD6', 'category_group_name': '음식점', 'category_name': '음식점 > 중식', 'distance': '', 'id': '12077369', 'phone': '02-753-5693', 'place_name': '만복림', 'place_url': 'http://place.map.kakao.com/12077369', 'road_address_name': '서울 중구 후암로 98', 'x': '126.975048075101', 'y': '37.5538365269761'}\n",
      "{'address_name': '서울 중구 남대문로5가 541', 'category_group_code': 'FD6', 'category_group_name': '음식점', 'category_name': '음식점 > 한식 > 한정식', 'distance': '', 'id': '26596136', 'phone': '02-6456-8991', 'place_name': '해초섬 서울스퀘어점', 'place_url': 'http://place.map.kakao.com/26596136', 'road_address_name': '서울 중구 한강대로 416', 'x': '126.973861454852', 'y': '37.5555229380185'}\n",
      "{'address_name': '서울 용산구 동자동 23-29', 'category_group_code': 'FD6', 'category_group_name': '음식점', 'category_name': '음식점 > 한식 > 국수 > 칼국수', 'distance': '', 'id': '9963594', 'phone': '02-754-1123', 'place_name': '충무칼국수', 'place_url': 'http://place.map.kakao.com/9963594', 'road_address_name': '서울 용산구 한강대로104길 38', 'x': '126.974374820294', 'y': '37.550203558256'}\n",
      "{'address_name': '서울 중구 남창동 34-34', 'category_group_code': 'FD6', 'category_group_name': '음식점', 'category_name': '음식점 > 한식 > 해물,생선', 'distance': '', 'id': '8670706', 'phone': '02-755-3449', 'place_name': '희락갈치', 'place_url': 'http://place.map.kakao.com/8670706', 'road_address_name': '서울 중구 남대문시장길 22-6', 'x': '126.97710366926631', 'y': '37.55989344806759'}\n",
      "{'address_name': '서울 용산구 동자동 42-9', 'category_group_code': 'FD6', 'category_group_name': '음식점', 'category_name': '음식점 > 한식 > 육류,고기 > 오리', 'distance': '', 'id': '986888165', 'phone': '02-6080-6852', 'place_name': '돈오리', 'place_url': 'http://place.map.kakao.com/986888165', 'road_address_name': '서울 용산구 한강대로102길 3', 'x': '126.972365098288', 'y': '37.549943617455'}\n",
      "{'address_name': '서울 중구 봉래동2가 122-11', 'category_group_code': 'CE7', 'category_group_name': '카페', 'category_name': '음식점 > 카페 > 커피전문점 > 스타벅스', 'distance': '', 'id': '67078466', 'phone': '1522-3232', 'place_name': '스타벅스 서울역사점', 'place_url': 'http://place.map.kakao.com/67078466', 'road_address_name': '서울 중구 한강대로 405', 'x': '126.97170262546341', 'y': '37.55414661686299'}\n",
      "{'address_name': '서울 용산구 서계동 223-42', 'category_group_code': 'FD6', 'category_group_name': '음식점', 'category_name': '음식점 > 분식 > 떡볶이', 'distance': '', 'id': '1711121947', 'phone': '02-703-7222', 'place_name': '서울역철도떡볶이', 'place_url': 'http://place.map.kakao.com/1711121947', 'road_address_name': '서울 용산구 청파로93길 18-1', 'x': '126.96784227048317', 'y': '37.554330333139326'}\n",
      "{'address_name': '서울 용산구 후암동 1-43', 'category_group_code': 'CE7', 'category_group_name': '카페', 'category_name': '음식점 > 카페', 'distance': '', 'id': '13582387', 'phone': '070-8269-0715', 'place_name': '엘카페커피로스터스', 'place_url': 'http://place.map.kakao.com/13582387', 'road_address_name': '서울 용산구 후암로 68', 'x': '126.97711288346454', 'y': '37.55197007737681'}\n",
      "{'address_name': '서울 중구 남대문로5가 195', 'category_group_code': 'FD6', 'category_group_name': '음식점', 'category_name': '음식점 > 한식 > 육류,고기', 'distance': '', 'id': '1398440352', 'phone': '02-771-7187', 'place_name': '삼수갑산', 'place_url': 'http://place.map.kakao.com/1398440352', 'road_address_name': '서울 중구 세종대로4길 25', 'x': '126.975368191068', 'y': '37.5577541316268'}\n",
      "{'address_name': '서울 중구 봉래동2가 122-11', 'category_group_code': 'FD6', 'category_group_name': '음식점', 'category_name': '음식점 > 패스트푸드 > 맥도날드', 'distance': '', 'id': '10346282', 'phone': '02-6743-1400', 'place_name': '맥도날드 서울역점', 'place_url': 'http://place.map.kakao.com/10346282', 'road_address_name': '서울 중구 한강대로 405', 'x': '126.97060907715965', 'y': '37.55494283173466'}\n",
      "{'address_name': '서울 중구 봉래동2가 122-11', 'category_group_code': 'FD6', 'category_group_name': '음식점', 'category_name': '음식점 > 일식 > 토끼정', 'distance': '', 'id': '954522598', 'phone': '02-362-9401', 'place_name': '토끼정 KTX서울역사점', 'place_url': 'http://place.map.kakao.com/954522598', 'road_address_name': '서울 중구 한강대로 405', 'x': '126.97005413312112', 'y': '37.55593829465701'}\n",
      "{'address_name': '서울 중구 중림동 200', 'category_group_code': 'FD6', 'category_group_name': '음식점', 'category_name': '음식점 > 한식 > 육류,고기 > 갈비', 'distance': '', 'id': '34995480', 'phone': '02-312-6166', 'place_name': '서울우진갈비', 'place_url': 'http://place.map.kakao.com/34995480', 'road_address_name': '서울 중구 중림로 10', 'x': '126.9665673787', 'y': '37.5581592183411'}\n",
      "{'address_name': '서울 중구 남창동 50-48', 'category_group_code': 'FD6', 'category_group_name': '음식점', 'category_name': '음식점 > 한식 > 해물,생선 > 회', 'distance': '', 'id': '10335617', 'phone': '02-755-5115', 'place_name': '막내회집 본점', 'place_url': 'http://place.map.kakao.com/10335617', 'road_address_name': '서울 중구 남대문시장2가길 2', 'x': '126.97673033697879', 'y': '37.55937259882099'}\n",
      "{'address_name': '서울 중구 만리동1가 62-14', 'category_group_code': 'FD6', 'category_group_name': '음식점', 'category_name': '음식점 > 한식 > 육류,고기 > 갈비', 'distance': '', 'id': '2092235998', 'phone': '02-6949-3532', 'place_name': '봉래축산', 'place_url': 'http://place.map.kakao.com/2092235998', 'road_address_name': '서울 중구 만리재로35길 6', 'x': '126.967626719735', 'y': '37.5555430171222'}\n",
      "{'address_name': '서울 중구 봉래동2가 122-11', 'category_group_code': 'FD6', 'category_group_name': '음식점', 'category_name': '음식점 > 중식 > 중국요리', 'distance': '', 'id': '450580125', 'phone': '02-392-0985', 'place_name': '도원스타일 서울역점', 'place_url': 'http://place.map.kakao.com/450580125', 'road_address_name': '서울 중구 한강대로 405', 'x': '126.97066576480943', 'y': '37.55468425948858'}\n",
      "{'address_name': '서울 중구 남대문로5가 631', 'category_group_code': 'FD6', 'category_group_name': '음식점', 'category_name': '음식점 > 중식', 'distance': '', 'id': '12077369', 'phone': '02-753-5693', 'place_name': '만복림', 'place_url': 'http://place.map.kakao.com/12077369', 'road_address_name': '서울 중구 후암로 98', 'x': '126.975048075101', 'y': '37.5538365269761'}\n",
      "{'address_name': '서울 중구 남대문로5가 541', 'category_group_code': 'FD6', 'category_group_name': '음식점', 'category_name': '음식점 > 한식 > 한정식', 'distance': '', 'id': '26596136', 'phone': '02-6456-8991', 'place_name': '해초섬 서울스퀘어점', 'place_url': 'http://place.map.kakao.com/26596136', 'road_address_name': '서울 중구 한강대로 416', 'x': '126.973861454852', 'y': '37.5555229380185'}\n",
      "{'address_name': '서울 용산구 동자동 23-29', 'category_group_code': 'FD6', 'category_group_name': '음식점', 'category_name': '음식점 > 한식 > 국수 > 칼국수', 'distance': '', 'id': '9963594', 'phone': '02-754-1123', 'place_name': '충무칼국수', 'place_url': 'http://place.map.kakao.com/9963594', 'road_address_name': '서울 용산구 한강대로104길 38', 'x': '126.974374820294', 'y': '37.550203558256'}\n",
      "{'address_name': '서울 중구 남창동 34-34', 'category_group_code': 'FD6', 'category_group_name': '음식점', 'category_name': '음식점 > 한식 > 해물,생선', 'distance': '', 'id': '8670706', 'phone': '02-755-3449', 'place_name': '희락갈치', 'place_url': 'http://place.map.kakao.com/8670706', 'road_address_name': '서울 중구 남대문시장길 22-6', 'x': '126.97710366926631', 'y': '37.55989344806759'}\n",
      "{'address_name': '서울 용산구 동자동 42-9', 'category_group_code': 'FD6', 'category_group_name': '음식점', 'category_name': '음식점 > 한식 > 육류,고기 > 오리', 'distance': '', 'id': '986888165', 'phone': '02-6080-6852', 'place_name': '돈오리', 'place_url': 'http://place.map.kakao.com/986888165', 'road_address_name': '서울 용산구 한강대로102길 3', 'x': '126.972365098288', 'y': '37.549943617455'}\n",
      "{'address_name': '서울 중구 봉래동2가 122-11', 'category_group_code': 'CE7', 'category_group_name': '카페', 'category_name': '음식점 > 카페 > 커피전문점 > 스타벅스', 'distance': '', 'id': '67078466', 'phone': '1522-3232', 'place_name': '스타벅스 서울역사점', 'place_url': 'http://place.map.kakao.com/67078466', 'road_address_name': '서울 중구 한강대로 405', 'x': '126.97170262546341', 'y': '37.55414661686299'}\n",
      "{'address_name': '서울 용산구 서계동 223-42', 'category_group_code': 'FD6', 'category_group_name': '음식점', 'category_name': '음식점 > 분식 > 떡볶이', 'distance': '', 'id': '1711121947', 'phone': '02-703-7222', 'place_name': '서울역철도떡볶이', 'place_url': 'http://place.map.kakao.com/1711121947', 'road_address_name': '서울 용산구 청파로93길 18-1', 'x': '126.96784227048317', 'y': '37.554330333139326'}\n",
      "{'address_name': '서울 용산구 후암동 1-43', 'category_group_code': 'CE7', 'category_group_name': '카페', 'category_name': '음식점 > 카페', 'distance': '', 'id': '13582387', 'phone': '070-8269-0715', 'place_name': '엘카페커피로스터스', 'place_url': 'http://place.map.kakao.com/13582387', 'road_address_name': '서울 용산구 후암로 68', 'x': '126.97711288346454', 'y': '37.55197007737681'}\n",
      "{'address_name': '서울 중구 남대문로5가 195', 'category_group_code': 'FD6', 'category_group_name': '음식점', 'category_name': '음식점 > 한식 > 육류,고기', 'distance': '', 'id': '1398440352', 'phone': '02-771-7187', 'place_name': '삼수갑산', 'place_url': 'http://place.map.kakao.com/1398440352', 'road_address_name': '서울 중구 세종대로4길 25', 'x': '126.975368191068', 'y': '37.5577541316268'}\n",
      "{'address_name': '서울 중구 봉래동2가 122-11', 'category_group_code': 'FD6', 'category_group_name': '음식점', 'category_name': '음식점 > 패스트푸드 > 맥도날드', 'distance': '', 'id': '10346282', 'phone': '02-6743-1400', 'place_name': '맥도날드 서울역점', 'place_url': 'http://place.map.kakao.com/10346282', 'road_address_name': '서울 중구 한강대로 405', 'x': '126.97060907715965', 'y': '37.55494283173466'}\n",
      "{'address_name': '서울 중구 봉래동2가 122-11', 'category_group_code': 'FD6', 'category_group_name': '음식점', 'category_name': '음식점 > 일식 > 토끼정', 'distance': '', 'id': '954522598', 'phone': '02-362-9401', 'place_name': '토끼정 KTX서울역사점', 'place_url': 'http://place.map.kakao.com/954522598', 'road_address_name': '서울 중구 한강대로 405', 'x': '126.97005413312112', 'y': '37.55593829465701'}\n",
      "{'address_name': '서울 중구 중림동 200', 'category_group_code': 'FD6', 'category_group_name': '음식점', 'category_name': '음식점 > 한식 > 육류,고기 > 갈비', 'distance': '', 'id': '34995480', 'phone': '02-312-6166', 'place_name': '서울우진갈비', 'place_url': 'http://place.map.kakao.com/34995480', 'road_address_name': '서울 중구 중림로 10', 'x': '126.9665673787', 'y': '37.5581592183411'}\n",
      "{'address_name': '서울 마포구 동교동 166-14', 'category_group_code': 'FD6', 'category_group_name': '음식점', 'category_name': '음식점 > 중식 > 중국요리', 'distance': '', 'id': '1622865435', 'phone': '02-332-7668', 'place_name': '하이디라오 홍대지점', 'place_url': 'http://place.map.kakao.com/1622865435', 'road_address_name': '서울 마포구 양화로 176', 'x': '126.924760602353', 'y': '37.5571921297692'}\n",
      "{'address_name': '서울 마포구 서교동 346-47', 'category_group_code': 'FD6', 'category_group_name': '음식점', 'category_name': '음식점 > 양식 > 이탈리안', 'distance': '', 'id': '8123221', 'phone': '02-323-0098', 'place_name': '프리모바치오바치 홍대본점', 'place_url': 'http://place.map.kakao.com/8123221', 'road_address_name': '서울 마포구 와우산로23길 44', 'x': '126.923703730493', 'y': '37.5547839866237'}\n",
      "{'address_name': '서울 마포구 서교동 369-1', 'category_group_code': 'CE7', 'category_group_name': '카페', 'category_name': '음식점 > 카페 > 테마카페', 'distance': '', 'id': '53292857', 'phone': '', 'place_name': '943킹스크로스', 'place_url': 'http://place.map.kakao.com/53292857', 'road_address_name': '서울 마포구 양화로16길 24', 'x': '126.92080954986005', 'y': '37.552989095652656'}\n",
      "{'address_name': '서울 마포구 서교동 342-16', 'category_group_code': 'FD6', 'category_group_name': '음식점', 'category_name': '음식점 > 양식', 'distance': '', 'id': '27272711', 'phone': '02-6406-5640', 'place_name': '비스트로주라', 'place_url': 'http://place.map.kakao.com/27272711', 'road_address_name': '서울 마포구 와우산로23길 18-7', 'x': '126.924618957329', 'y': '37.5539953005742'}\n",
      "{'address_name': '서울 마포구 동교동 146-8', 'category_group_code': 'CE7', 'category_group_name': '카페', 'category_name': '음식점 > 카페 > 커피전문점', 'distance': '', 'id': '1797970569', 'phone': '070-8869-6304', 'place_name': '카페공명 연남점', 'place_url': 'http://place.map.kakao.com/1797970569', 'road_address_name': '서울 마포구 연희로 11', 'x': '126.926352615326', 'y': '37.5598708965573'}\n",
      "{'address_name': '서울 마포구 서교동 375-35', 'category_group_code': 'FD6', 'category_group_name': '음식점', 'category_name': '음식점 > 중식', 'distance': '', 'id': '1767349854', 'phone': '070-5035-8878', 'place_name': '진진', 'place_url': 'http://place.map.kakao.com/1767349854', 'road_address_name': '서울 마포구 월드컵북로1길 60', 'x': '126.91845251500338', 'y': '37.55376325035565'}\n",
      "{'address_name': '서울 마포구 동교동 152-11', 'category_group_code': 'FD6', 'category_group_name': '음식점', 'category_name': '음식점 > 중식 > 중국요리', 'distance': '', 'id': '965893653', 'phone': '0507-1436-2209', 'place_name': '중화복춘', 'place_url': 'http://place.map.kakao.com/965893653', 'road_address_name': '서울 마포구 동교로 220-7', 'x': '126.924296449184', 'y': '37.5595596531777'}\n",
      "{'address_name': '서울 마포구 서교동 346-31', 'category_group_code': 'FD6', 'category_group_name': '음식점', 'category_name': '음식점 > 일식 > 돈까스,우동', 'distance': '', 'id': '13337463', 'phone': '', 'place_name': '가미우동', 'place_url': 'http://place.map.kakao.com/13337463', 'road_address_name': '서울 마포구 홍익로2길 23', 'x': '126.923857747432', 'y': '37.5546831743202'}\n",
      "{'address_name': '서울 마포구 동교동 163-6', 'category_group_code': 'FD6', 'category_group_name': '음식점', 'category_name': '음식점 > 한식 > 육류,고기 > 닭요리', 'distance': '', 'id': '443293859', 'phone': '02-511-8812', 'place_name': '장인닭갈비 홍대점', 'place_url': 'http://place.map.kakao.com/443293859', 'road_address_name': '서울 마포구 어울마당로 111-1', 'x': '126.9228389569877', 'y': '37.55491677229308'}\n",
      "{'address_name': '서울 마포구 동교동 170-23', 'category_group_code': 'FD6', 'category_group_name': '음식점', 'category_name': '음식점 > 한식 > 육류,고기 > 곱창,막창', 'distance': '', 'id': '18514677', 'phone': '02-337-8292', 'place_name': '황곱 홍대점', 'place_url': 'http://place.map.kakao.com/18514677', 'road_address_name': '서울 마포구 어울마당로 149', 'x': '126.926395323228', 'y': '37.5567246416086'}\n",
      "{'address_name': '서울 마포구 동교동 164-17', 'category_group_code': 'FD6', 'category_group_name': '음식점', 'category_name': '음식점 > 분식 > 떡볶이', 'distance': '', 'id': '19382069', 'phone': '', 'place_name': '홍대조폭떡볶이 홍대2호점', 'place_url': 'http://place.map.kakao.com/19382069', 'road_address_name': '서울 마포구 홍익로6길 38', 'x': '126.923761463926', 'y': '37.5558796368221'}\n",
      "{'address_name': '서울 마포구 동교동 206-5', 'category_group_code': 'FD6', 'category_group_name': '음식점', 'category_name': '음식점 > 한식 > 해물,생선 > 회', 'distance': '', 'id': '21089840', 'phone': '02-3141-6386', 'place_name': '21세기 우리바다수산', 'place_url': 'http://place.map.kakao.com/21089840', 'road_address_name': '서울 마포구 동교로 173', 'x': '126.92096324730414', 'y': '37.55640578129636'}\n",
      "{'address_name': '서울 마포구 서교동 358-39', 'category_group_code': 'FD6', 'category_group_name': '음식점', 'category_name': '음식점 > 일식 > 돈까스,우동', 'distance': '', 'id': '12771116', 'phone': '02-322-5733', 'place_name': '카미야', 'place_url': 'http://place.map.kakao.com/12771116', 'road_address_name': '서울 마포구 와우산로21길 28-6', 'x': '126.9223637900431', 'y': '37.552582876796265'}\n",
      "{'address_name': '서울 마포구 연남동 566-8', 'category_group_code': 'FD6', 'category_group_name': '음식점', 'category_name': '음식점 > 한식 > 해물,생선 > 회', 'distance': '', 'id': '9012776', 'phone': '02-338-0872', 'place_name': '바다회사랑', 'place_url': 'http://place.map.kakao.com/9012776', 'road_address_name': '서울 마포구 동교로27길 60', 'x': '126.921063142318', 'y': '37.5604116806539'}\n",
      "{'address_name': '서울 마포구 동교동 164-6', 'category_group_code': 'FD6', 'category_group_name': '음식점', 'category_name': '음식점 > 한식 > 순대', 'distance': '', 'id': '132754911', 'phone': '02-322-8111', 'place_name': '보승회관 홍대직영점', 'place_url': 'http://place.map.kakao.com/132754911', 'road_address_name': '서울 마포구 어울마당로 131', 'x': '126.924399477166', 'y': '37.5561647622243'}\n",
      "{'address_name': '서울 마포구 서교동 369-4', 'category_group_code': 'FD6', 'category_group_name': '음식점', 'category_name': '음식점 > 한식', 'distance': '', 'id': '1985225055', 'phone': '010-9482-9185', 'place_name': '홍대 조선시대', 'place_url': 'http://place.map.kakao.com/1985225055', 'road_address_name': '서울 마포구 홍익로3길 44', 'x': '126.92150590347114', 'y': '37.55264537945837'}\n",
      "{'address_name': '서울 마포구 서교동 344-9', 'category_group_code': 'FD6', 'category_group_name': '음식점', 'category_name': '음식점 > 일식 > 일본식라면', 'distance': '', 'id': '268235810', 'phone': '02-322-1335', 'place_name': '츠케루', 'place_url': 'http://place.map.kakao.com/268235810', 'road_address_name': '서울 마포구 와우산로23길 9', 'x': '126.924481549594', 'y': '37.5533401874318'}\n",
      "{'address_name': '서울 마포구 서교동 461-25', 'category_group_code': 'FD6', 'category_group_name': '음식점', 'category_name': '음식점 > 한식 > 해물,생선 > 회', 'distance': '', 'id': '27321311', 'phone': '02-325-6565', 'place_name': '바다회사랑 2호점', 'place_url': 'http://place.map.kakao.com/27321311', 'road_address_name': '서울 마포구 동교로 143', 'x': '126.9178033478959', 'y': '37.555429645666095'}\n",
      "{'address_name': '서울 마포구 서교동 486', 'category_group_code': 'CE7', 'category_group_name': '카페', 'category_name': '음식점 > 카페', 'distance': '', 'id': '10368349', 'phone': '02-332-7470', 'place_name': '땡스네이쳐', 'place_url': 'http://place.map.kakao.com/10368349', 'road_address_name': '서울 마포구 홍익로 10', 'x': '126.923759261108', 'y': '37.5535983096117'}\n",
      "{'address_name': '서울 마포구 서교동 369-10', 'category_group_code': 'FD6', 'category_group_name': '음식점', 'category_name': '음식점 > 한식', 'distance': '', 'id': '18257217', 'phone': '02-3143-6635', 'place_name': '강강술래 홍대점', 'place_url': 'http://place.map.kakao.com/18257217', 'road_address_name': '서울 마포구 잔다리로6길 25', 'x': '126.92056917003', 'y': '37.5523564337032'}\n",
      "{'address_name': '서울 마포구 동교동 154-25', 'category_group_code': 'CE7', 'category_group_name': '카페', 'category_name': '음식점 > 카페', 'distance': '', 'id': '25606682', 'phone': '02-337-1706', 'place_name': '17도씨', 'place_url': 'http://place.map.kakao.com/25606682', 'road_address_name': '서울 마포구 양화로19길 22-16', 'x': '126.92448854538745', 'y': '37.55874437401848'}\n",
      "{'address_name': '서울 마포구 동교동 203-30', 'category_group_code': 'CE7', 'category_group_name': '카페', 'category_name': '음식점 > 카페', 'distance': '', 'id': '2040780653', 'phone': '070-8860-5287', 'place_name': '모멘트커피', 'place_url': 'http://place.map.kakao.com/2040780653', 'road_address_name': '서울 마포구 월드컵북로4길 29', 'x': '126.921038838971', 'y': '37.5577014658143'}\n",
      "{'address_name': '서울 마포구 동교동 201-10', 'category_group_code': 'CE7', 'category_group_name': '카페', 'category_name': '음식점 > 카페 > 커피전문점', 'distance': '', 'id': '15985522', 'phone': '02-6368-5228', 'place_name': '이미커피', 'place_url': 'http://place.map.kakao.com/15985522', 'road_address_name': '서울 마포구 동교로25길 7', 'x': '126.92191959031598', 'y': '37.55747500027613'}\n",
      "{'address_name': '서울 마포구 동교동 153-3', 'category_group_code': 'FD6', 'category_group_name': '음식점', 'category_name': '음식점 > 분식 > 떡볶이', 'distance': '', 'id': '763211643', 'phone': '', 'place_name': '또보겠지떡볶이집 붕붕허니비점', 'place_url': 'http://place.map.kakao.com/763211643', 'road_address_name': '서울 마포구 양화로19길 22-25', 'x': '126.9244238199309', 'y': '37.55895606688181'}\n",
      "{'address_name': '서울 마포구 서교동 351-13', 'category_group_code': 'FD6', 'category_group_name': '음식점', 'category_name': '음식점 > 아시아음식 > 동남아음식 > 태국음식', 'distance': '', 'id': '22300586', 'phone': '02-322-0567', 'place_name': '어메이징농카이', 'place_url': 'http://place.map.kakao.com/22300586', 'road_address_name': '서울 마포구 동교로 156-11', 'x': '126.91991866431744', 'y': '37.55532928659496'}\n",
      "{'address_name': '서울 마포구 동교동 164-23', 'category_group_code': 'FD6', 'category_group_name': '음식점', 'category_name': '음식점 > 한식 > 육류,고기', 'distance': '', 'id': '24643017', 'phone': '02-6212-1092', 'place_name': '일편등심', 'place_url': 'http://place.map.kakao.com/24643017', 'road_address_name': '서울 마포구 홍익로6길 52', 'x': '126.924394840958', 'y': '37.5562728789345'}\n",
      "{'address_name': '서울 마포구 서교동 358-42', 'category_group_code': 'FD6', 'category_group_name': '음식점', 'category_name': '음식점 > 분식 > 떡볶이', 'distance': '', 'id': '895272833', 'phone': '', 'place_name': '또보겠지떡볶이집 깐따삐아점', 'place_url': 'http://place.map.kakao.com/895272833', 'road_address_name': '서울 마포구 와우산로21길 28-12', 'x': '126.922465412458', 'y': '37.5528045890423'}\n",
      "{'address_name': '서울 마포구 서교동 358-121', 'category_group_code': 'FD6', 'category_group_name': '음식점', 'category_name': '음식점 > 양식 > 멕시칸,브라질', 'distance': '', 'id': '892514586', 'phone': '02-337-8883', 'place_name': '감성타코 홍대점', 'place_url': 'http://place.map.kakao.com/892514586', 'road_address_name': '서울 마포구 와우산로21길 20-11', 'x': '126.922723389993', 'y': '37.5528516100497'}\n",
      "{'address_name': '서울 마포구 동교동 197-5', 'category_group_code': 'FD6', 'category_group_name': '음식점', 'category_name': '음식점 > 한식 > 육류,고기 > 곱창,막창', 'distance': '', 'id': '10341266', 'phone': '02-336-4496', 'place_name': '마포곱창타운', 'place_url': 'http://place.map.kakao.com/10341266', 'road_address_name': '서울 마포구 동교로27길 20', 'x': '126.922522306247', 'y': '37.5590647560241'}\n",
      "{'address_name': '서울 마포구 서교동 328-26', 'category_group_code': 'FD6', 'category_group_name': '음식점', 'category_name': '음식점 > 한식', 'distance': '', 'id': '17419272', 'phone': '02-335-0066', 'place_name': '더담', 'place_url': 'http://place.map.kakao.com/17419272', 'road_address_name': '서울 마포구 와우산로29길 44', 'x': '126.927849458786', 'y': '37.5557236301088'}\n",
      "{'address_name': '서울 마포구 서교동 345-16', 'category_group_code': 'FD6', 'category_group_name': '음식점', 'category_name': '음식점 > 분식 > 떡볶이', 'distance': '', 'id': '26311060', 'phone': '02-324-1107', 'place_name': '홍마떡 홍대본점', 'place_url': 'http://place.map.kakao.com/26311060', 'road_address_name': '서울 마포구 어울마당로 112-6', 'x': '126.92336886055703', 'y': '37.55466664008228'}\n",
      "{'address_name': '서울 마포구 서교동 448-2', 'category_group_code': 'FD6', 'category_group_name': '음식점', 'category_name': '음식점 > 한식 > 감자탕', 'distance': '', 'id': '11263566', 'phone': '02-3141-8885', 'place_name': '영동감자탕', 'place_url': 'http://place.map.kakao.com/11263566', 'road_address_name': '서울 마포구 월드컵북로5길 17', 'x': '126.9178514261113', 'y': '37.55699471141531'}\n",
      "{'address_name': '서울 서대문구 창천동 448', 'category_group_code': 'FD6', 'category_group_name': '음식점', 'category_name': '음식점 > 간식 > 제과,베이커리', 'distance': '', 'id': '1165755646', 'phone': '02-6489-2334', 'place_name': '만동제과', 'place_url': 'http://place.map.kakao.com/1165755646', 'road_address_name': '서울 서대문구 연희로 32', 'x': '126.9272688897718', 'y': '37.56153290237703'}\n",
      "{'address_name': '서울 마포구 연남동 568-26', 'category_group_code': 'FD6', 'category_group_name': '음식점', 'category_name': '음식점 > 퓨전요리 > 퓨전일식', 'distance': '', 'id': '308342289', 'phone': '02-332-8064', 'place_name': '연남토마 본점', 'place_url': 'http://place.map.kakao.com/308342289', 'road_address_name': '서울 마포구 월드컵북로6길 61', 'x': '126.921462488105', 'y': '37.5595073462493'}\n",
      "{'address_name': '서울 마포구 서교동 343-13', 'category_group_code': 'FD6', 'category_group_name': '음식점', 'category_name': '음식점 > 일식 > 일본식라면', 'distance': '', 'id': '23734945', 'phone': '', 'place_name': '지로우라멘', 'place_url': 'http://place.map.kakao.com/23734945', 'road_address_name': '서울 마포구 와우산로29가길 79', 'x': '126.925171531217', 'y': '37.5536965208231'}\n",
      "{'address_name': '서울 마포구 서교동 330-19', 'category_group_code': 'FD6', 'category_group_name': '음식점', 'category_name': '음식점 > 일식 > 일본식라면', 'distance': '', 'id': '18742750', 'phone': '02-3144-3304', 'place_name': '부탄츄 홍대점', 'place_url': 'http://place.map.kakao.com/18742750', 'road_address_name': '서울 마포구 와우산로35길 75', 'x': '126.926730635869', 'y': '37.5564040951311'}\n",
      "{'address_name': '서울 마포구 서교동 354-12', 'category_group_code': 'FD6', 'category_group_name': '음식점', 'category_name': '음식점 > 한식 > 육류,고기 > 닭요리 > 삼계탕', 'distance': '', 'id': '8312102', 'phone': '02-325-3399', 'place_name': '백년토종삼계탕 본점', 'place_url': 'http://place.map.kakao.com/8312102', 'road_address_name': '서울 마포구 양화로 118', 'x': '126.920232623863', 'y': '37.5538266352008'}\n",
      "{'address_name': '서울 마포구 연남동 384-7', 'category_group_code': 'FD6', 'category_group_name': '음식점', 'category_name': '음식점 > 일식', 'distance': '', 'id': '1087043762', 'phone': '070-4242-1881', 'place_name': '미쁘동', 'place_url': 'http://place.map.kakao.com/1087043762', 'road_address_name': '서울 마포구 동교로38길 33-21', 'x': '126.926190830908', 'y': '37.5621016631213'}\n",
      "{'address_name': '서울 마포구 연남동 383-95', 'category_group_code': 'FD6', 'category_group_name': '음식점', 'category_name': '음식점 > 중식 > 중국요리', 'distance': '', 'id': '934767425', 'phone': '02-333-4561', 'place_name': '연교', 'place_url': 'http://place.map.kakao.com/934767425', 'road_address_name': '서울 마포구 연희로1길 65', 'x': '126.926671215681', 'y': '37.5616046124056'}\n",
      "{'address_name': '서울 마포구 서교동 364-10', 'category_group_code': 'FD6', 'category_group_name': '음식점', 'category_name': '음식점 > 일식', 'distance': '', 'id': '400281849', 'phone': '0507-1414-9500', 'place_name': '우와 홍대본점', 'place_url': 'http://place.map.kakao.com/400281849', 'road_address_name': '서울 마포구 와우산로21길 21-16', 'x': '126.922172337916', 'y': '37.5516835548182'}\n",
      "{'address_name': '서울 마포구 서교동 342-16', 'category_group_code': 'FD6', 'category_group_name': '음식점', 'category_name': '음식점 > 일식 > 일본식라면', 'distance': '', 'id': '1719380793', 'phone': '02-333-1997', 'place_name': '이츠모라멘', 'place_url': 'http://place.map.kakao.com/1719380793', 'road_address_name': '서울 마포구 와우산로23길 18-7', 'x': '126.924628003755', 'y': '37.5540025143306'}\n",
      "{'address_name': '서울 마포구 서교동 395-78', 'category_group_code': 'CE7', 'category_group_name': '카페', 'category_name': '음식점 > 카페 > 테마카페 > 디저트카페', 'distance': '', 'id': '26235884', 'phone': '02-333-5325', 'place_name': '피오니 홍대점', 'place_url': 'http://place.map.kakao.com/26235884', 'road_address_name': '서울 마포구 독막로7길 51', 'x': '126.91976584375472', 'y': '37.550085375447026'}\n",
      "{'address_name': '서울 마포구 동교동 164-33', 'category_group_code': 'FD6', 'category_group_name': '음식점', 'category_name': '음식점 > 중식 > 중국요리', 'distance': '', 'id': '1226080781', 'phone': '02-322-1592', 'place_name': '훠궈나라 홍대점', 'place_url': 'http://place.map.kakao.com/1226080781', 'road_address_name': '서울 마포구 어울마당로 133', 'x': '126.924648370003', 'y': '37.556255021059'}\n",
      "{'address_name': '서울 마포구 서교동 358-51', 'category_group_code': 'FD6', 'category_group_name': '음식점', 'category_name': '음식점 > 양식', 'distance': '', 'id': '1736742094', 'phone': '', 'place_name': '마녀주방 홍대점', 'place_url': 'http://place.map.kakao.com/1736742094', 'road_address_name': '서울 마포구 와우산로21길 36-10', 'x': '126.922107756343', 'y': '37.5528439975489'}\n",
      "{'address_name': '서울 마포구 연남동 515-20', 'category_group_code': 'FD6', 'category_group_name': '음식점', 'category_name': '음식점 > 기사식당', 'distance': '', 'id': '1641347883', 'phone': '02-325-8727', 'place_name': '감나무집기사식당', 'place_url': 'http://place.map.kakao.com/1641347883', 'road_address_name': '서울 마포구 연남로 23', 'x': '126.92215851502375', 'y': '37.56170894197842'}\n",
      "{'address_name': '서울 마포구 서교동 345-16', 'category_group_code': 'FD6', 'category_group_name': '음식점', 'category_name': '음식점 > 분식 > 떡볶이', 'distance': '', 'id': '26311060', 'phone': '02-324-1107', 'place_name': '홍마떡 홍대본점', 'place_url': 'http://place.map.kakao.com/26311060', 'road_address_name': '서울 마포구 어울마당로 112-6', 'x': '126.92336886055703', 'y': '37.55466664008228'}\n",
      "{'address_name': '서울 마포구 서교동 448-2', 'category_group_code': 'FD6', 'category_group_name': '음식점', 'category_name': '음식점 > 한식 > 감자탕', 'distance': '', 'id': '11263566', 'phone': '02-3141-8885', 'place_name': '영동감자탕', 'place_url': 'http://place.map.kakao.com/11263566', 'road_address_name': '서울 마포구 월드컵북로5길 17', 'x': '126.9178514261113', 'y': '37.55699471141531'}\n",
      "{'address_name': '서울 서대문구 창천동 448', 'category_group_code': 'FD6', 'category_group_name': '음식점', 'category_name': '음식점 > 간식 > 제과,베이커리', 'distance': '', 'id': '1165755646', 'phone': '02-6489-2334', 'place_name': '만동제과', 'place_url': 'http://place.map.kakao.com/1165755646', 'road_address_name': '서울 서대문구 연희로 32', 'x': '126.9272688897718', 'y': '37.56153290237703'}\n",
      "{'address_name': '서울 마포구 연남동 568-26', 'category_group_code': 'FD6', 'category_group_name': '음식점', 'category_name': '음식점 > 퓨전요리 > 퓨전일식', 'distance': '', 'id': '308342289', 'phone': '02-332-8064', 'place_name': '연남토마 본점', 'place_url': 'http://place.map.kakao.com/308342289', 'road_address_name': '서울 마포구 월드컵북로6길 61', 'x': '126.921462488105', 'y': '37.5595073462493'}\n",
      "{'address_name': '서울 마포구 서교동 343-13', 'category_group_code': 'FD6', 'category_group_name': '음식점', 'category_name': '음식점 > 일식 > 일본식라면', 'distance': '', 'id': '23734945', 'phone': '', 'place_name': '지로우라멘', 'place_url': 'http://place.map.kakao.com/23734945', 'road_address_name': '서울 마포구 와우산로29가길 79', 'x': '126.925171531217', 'y': '37.5536965208231'}\n",
      "{'address_name': '서울 마포구 서교동 330-19', 'category_group_code': 'FD6', 'category_group_name': '음식점', 'category_name': '음식점 > 일식 > 일본식라면', 'distance': '', 'id': '18742750', 'phone': '02-3144-3304', 'place_name': '부탄츄 홍대점', 'place_url': 'http://place.map.kakao.com/18742750', 'road_address_name': '서울 마포구 와우산로35길 75', 'x': '126.926730635869', 'y': '37.5564040951311'}\n",
      "{'address_name': '서울 마포구 서교동 354-12', 'category_group_code': 'FD6', 'category_group_name': '음식점', 'category_name': '음식점 > 한식 > 육류,고기 > 닭요리 > 삼계탕', 'distance': '', 'id': '8312102', 'phone': '02-325-3399', 'place_name': '백년토종삼계탕 본점', 'place_url': 'http://place.map.kakao.com/8312102', 'road_address_name': '서울 마포구 양화로 118', 'x': '126.920232623863', 'y': '37.5538266352008'}\n",
      "{'address_name': '서울 마포구 연남동 384-7', 'category_group_code': 'FD6', 'category_group_name': '음식점', 'category_name': '음식점 > 일식', 'distance': '', 'id': '1087043762', 'phone': '070-4242-1881', 'place_name': '미쁘동', 'place_url': 'http://place.map.kakao.com/1087043762', 'road_address_name': '서울 마포구 동교로38길 33-21', 'x': '126.926190830908', 'y': '37.5621016631213'}\n",
      "{'address_name': '서울 마포구 연남동 383-95', 'category_group_code': 'FD6', 'category_group_name': '음식점', 'category_name': '음식점 > 중식 > 중국요리', 'distance': '', 'id': '934767425', 'phone': '02-333-4561', 'place_name': '연교', 'place_url': 'http://place.map.kakao.com/934767425', 'road_address_name': '서울 마포구 연희로1길 65', 'x': '126.926671215681', 'y': '37.5616046124056'}\n",
      "{'address_name': '서울 마포구 서교동 364-10', 'category_group_code': 'FD6', 'category_group_name': '음식점', 'category_name': '음식점 > 일식', 'distance': '', 'id': '400281849', 'phone': '0507-1414-9500', 'place_name': '우와 홍대본점', 'place_url': 'http://place.map.kakao.com/400281849', 'road_address_name': '서울 마포구 와우산로21길 21-16', 'x': '126.922172337916', 'y': '37.5516835548182'}\n",
      "{'address_name': '서울 마포구 서교동 342-16', 'category_group_code': 'FD6', 'category_group_name': '음식점', 'category_name': '음식점 > 일식 > 일본식라면', 'distance': '', 'id': '1719380793', 'phone': '02-333-1997', 'place_name': '이츠모라멘', 'place_url': 'http://place.map.kakao.com/1719380793', 'road_address_name': '서울 마포구 와우산로23길 18-7', 'x': '126.924628003755', 'y': '37.5540025143306'}\n",
      "{'address_name': '서울 마포구 서교동 395-78', 'category_group_code': 'CE7', 'category_group_name': '카페', 'category_name': '음식점 > 카페 > 테마카페 > 디저트카페', 'distance': '', 'id': '26235884', 'phone': '02-333-5325', 'place_name': '피오니 홍대점', 'place_url': 'http://place.map.kakao.com/26235884', 'road_address_name': '서울 마포구 독막로7길 51', 'x': '126.91976584375472', 'y': '37.550085375447026'}\n",
      "{'address_name': '서울 마포구 동교동 164-33', 'category_group_code': 'FD6', 'category_group_name': '음식점', 'category_name': '음식점 > 중식 > 중국요리', 'distance': '', 'id': '1226080781', 'phone': '02-322-1592', 'place_name': '훠궈나라 홍대점', 'place_url': 'http://place.map.kakao.com/1226080781', 'road_address_name': '서울 마포구 어울마당로 133', 'x': '126.924648370003', 'y': '37.556255021059'}\n",
      "{'address_name': '서울 마포구 서교동 358-51', 'category_group_code': 'FD6', 'category_group_name': '음식점', 'category_name': '음식점 > 양식', 'distance': '', 'id': '1736742094', 'phone': '', 'place_name': '마녀주방 홍대점', 'place_url': 'http://place.map.kakao.com/1736742094', 'road_address_name': '서울 마포구 와우산로21길 36-10', 'x': '126.922107756343', 'y': '37.5528439975489'}\n",
      "{'address_name': '서울 마포구 연남동 515-20', 'category_group_code': 'FD6', 'category_group_name': '음식점', 'category_name': '음식점 > 기사식당', 'distance': '', 'id': '1641347883', 'phone': '02-325-8727', 'place_name': '감나무집기사식당', 'place_url': 'http://place.map.kakao.com/1641347883', 'road_address_name': '서울 마포구 연남로 23', 'x': '126.92215851502375', 'y': '37.56170894197842'}\n",
      "{'address_name': '서울 마포구 서교동 345-16', 'category_group_code': 'FD6', 'category_group_name': '음식점', 'category_name': '음식점 > 분식 > 떡볶이', 'distance': '', 'id': '26311060', 'phone': '02-324-1107', 'place_name': '홍마떡 홍대본점', 'place_url': 'http://place.map.kakao.com/26311060', 'road_address_name': '서울 마포구 어울마당로 112-6', 'x': '126.92336886055703', 'y': '37.55466664008228'}\n",
      "{'address_name': '서울 마포구 서교동 448-2', 'category_group_code': 'FD6', 'category_group_name': '음식점', 'category_name': '음식점 > 한식 > 감자탕', 'distance': '', 'id': '11263566', 'phone': '02-3141-8885', 'place_name': '영동감자탕', 'place_url': 'http://place.map.kakao.com/11263566', 'road_address_name': '서울 마포구 월드컵북로5길 17', 'x': '126.9178514261113', 'y': '37.55699471141531'}\n",
      "{'address_name': '서울 서대문구 창천동 448', 'category_group_code': 'FD6', 'category_group_name': '음식점', 'category_name': '음식점 > 간식 > 제과,베이커리', 'distance': '', 'id': '1165755646', 'phone': '02-6489-2334', 'place_name': '만동제과', 'place_url': 'http://place.map.kakao.com/1165755646', 'road_address_name': '서울 서대문구 연희로 32', 'x': '126.9272688897718', 'y': '37.56153290237703'}\n",
      "{'address_name': '서울 마포구 연남동 568-26', 'category_group_code': 'FD6', 'category_group_name': '음식점', 'category_name': '음식점 > 퓨전요리 > 퓨전일식', 'distance': '', 'id': '308342289', 'phone': '02-332-8064', 'place_name': '연남토마 본점', 'place_url': 'http://place.map.kakao.com/308342289', 'road_address_name': '서울 마포구 월드컵북로6길 61', 'x': '126.921462488105', 'y': '37.5595073462493'}\n",
      "{'address_name': '서울 마포구 서교동 343-13', 'category_group_code': 'FD6', 'category_group_name': '음식점', 'category_name': '음식점 > 일식 > 일본식라면', 'distance': '', 'id': '23734945', 'phone': '', 'place_name': '지로우라멘', 'place_url': 'http://place.map.kakao.com/23734945', 'road_address_name': '서울 마포구 와우산로29가길 79', 'x': '126.925171531217', 'y': '37.5536965208231'}\n",
      "{'address_name': '서울 마포구 서교동 330-19', 'category_group_code': 'FD6', 'category_group_name': '음식점', 'category_name': '음식점 > 일식 > 일본식라면', 'distance': '', 'id': '18742750', 'phone': '02-3144-3304', 'place_name': '부탄츄 홍대점', 'place_url': 'http://place.map.kakao.com/18742750', 'road_address_name': '서울 마포구 와우산로35길 75', 'x': '126.926730635869', 'y': '37.5564040951311'}\n",
      "{'address_name': '서울 마포구 서교동 354-12', 'category_group_code': 'FD6', 'category_group_name': '음식점', 'category_name': '음식점 > 한식 > 육류,고기 > 닭요리 > 삼계탕', 'distance': '', 'id': '8312102', 'phone': '02-325-3399', 'place_name': '백년토종삼계탕 본점', 'place_url': 'http://place.map.kakao.com/8312102', 'road_address_name': '서울 마포구 양화로 118', 'x': '126.920232623863', 'y': '37.5538266352008'}\n",
      "{'address_name': '서울 마포구 연남동 384-7', 'category_group_code': 'FD6', 'category_group_name': '음식점', 'category_name': '음식점 > 일식', 'distance': '', 'id': '1087043762', 'phone': '070-4242-1881', 'place_name': '미쁘동', 'place_url': 'http://place.map.kakao.com/1087043762', 'road_address_name': '서울 마포구 동교로38길 33-21', 'x': '126.926190830908', 'y': '37.5621016631213'}\n",
      "{'address_name': '서울 마포구 연남동 383-95', 'category_group_code': 'FD6', 'category_group_name': '음식점', 'category_name': '음식점 > 중식 > 중국요리', 'distance': '', 'id': '934767425', 'phone': '02-333-4561', 'place_name': '연교', 'place_url': 'http://place.map.kakao.com/934767425', 'road_address_name': '서울 마포구 연희로1길 65', 'x': '126.926671215681', 'y': '37.5616046124056'}\n",
      "{'address_name': '서울 마포구 서교동 364-10', 'category_group_code': 'FD6', 'category_group_name': '음식점', 'category_name': '음식점 > 일식', 'distance': '', 'id': '400281849', 'phone': '0507-1414-9500', 'place_name': '우와 홍대본점', 'place_url': 'http://place.map.kakao.com/400281849', 'road_address_name': '서울 마포구 와우산로21길 21-16', 'x': '126.922172337916', 'y': '37.5516835548182'}\n",
      "{'address_name': '서울 마포구 서교동 342-16', 'category_group_code': 'FD6', 'category_group_name': '음식점', 'category_name': '음식점 > 일식 > 일본식라면', 'distance': '', 'id': '1719380793', 'phone': '02-333-1997', 'place_name': '이츠모라멘', 'place_url': 'http://place.map.kakao.com/1719380793', 'road_address_name': '서울 마포구 와우산로23길 18-7', 'x': '126.924628003755', 'y': '37.5540025143306'}\n",
      "{'address_name': '서울 마포구 서교동 395-78', 'category_group_code': 'CE7', 'category_group_name': '카페', 'category_name': '음식점 > 카페 > 테마카페 > 디저트카페', 'distance': '', 'id': '26235884', 'phone': '02-333-5325', 'place_name': '피오니 홍대점', 'place_url': 'http://place.map.kakao.com/26235884', 'road_address_name': '서울 마포구 독막로7길 51', 'x': '126.91976584375472', 'y': '37.550085375447026'}\n",
      "{'address_name': '서울 마포구 동교동 164-33', 'category_group_code': 'FD6', 'category_group_name': '음식점', 'category_name': '음식점 > 중식 > 중국요리', 'distance': '', 'id': '1226080781', 'phone': '02-322-1592', 'place_name': '훠궈나라 홍대점', 'place_url': 'http://place.map.kakao.com/1226080781', 'road_address_name': '서울 마포구 어울마당로 133', 'x': '126.924648370003', 'y': '37.556255021059'}\n",
      "{'address_name': '서울 마포구 서교동 358-51', 'category_group_code': 'FD6', 'category_group_name': '음식점', 'category_name': '음식점 > 양식', 'distance': '', 'id': '1736742094', 'phone': '', 'place_name': '마녀주방 홍대점', 'place_url': 'http://place.map.kakao.com/1736742094', 'road_address_name': '서울 마포구 와우산로21길 36-10', 'x': '126.922107756343', 'y': '37.5528439975489'}\n",
      "{'address_name': '서울 마포구 연남동 515-20', 'category_group_code': 'FD6', 'category_group_name': '음식점', 'category_name': '음식점 > 기사식당', 'distance': '', 'id': '1641347883', 'phone': '02-325-8727', 'place_name': '감나무집기사식당', 'place_url': 'http://place.map.kakao.com/1641347883', 'road_address_name': '서울 마포구 연남로 23', 'x': '126.92215851502375', 'y': '37.56170894197842'}\n"
     ]
    }
   ],
   "source": [
    "import time\n",
    "all_data=[]\n",
    "# 나머지 페이지 및 키워드에 대한 데이터를 가져오기\n",
    "for keyword in keywords:\n",
    "    for page in range(1, 6):  # 1페이지부터 5페이지까지 반복\n",
    "        # 첫 번째 키워드의 첫 페이지는 이미 요청되었으므로 건너뜁니다.\n",
    "        if keyword == keywords[0] and page == 1:\n",
    "            continue\n",
    "        params = {\n",
    "            'page': page,\n",
    "            'size': 15  # 페이지당 결과 수\n",
    "        }\n",
    "        response = requests.get(KEYWORD_LOCAL_URL.format(keyword + ' 맛집'), headers=headers, params=params)\n",
    "        if response.status_code == 200:\n",
    "            data = response.json().get('documents', [])\n",
    "            if not data:  # 더 이상 데이터가 없으면 중지\n",
    "                break\n",
    "            all_data.extend(data)  # 데이터를 리스트에 추가\n",
    "        else:\n",
    "            print(f\"Error fetching data for {keyword} page {page}: {response.status_code}\")\n",
    "            break\n",
    "        time.sleep(2)  # 웹 페이지 로드를 보장하기 위해 2초 쉬기\n",
    "# 수집된 모든 데이터를 출력\n",
    "for place in all_data:\n",
    "    print({\n",
    "        'address_name': place['address_name'],\n",
    "        'category_group_code': place.get('category_group_code', ''),\n",
    "        'category_group_name': place.get('category_group_name', ''),\n",
    "        'category_name': place['category_name'],\n",
    "        'distance': place.get('distance', ''),\n",
    "        'id': place['id'],\n",
    "        'phone': place['phone'],\n",
    "        'place_name': place['place_name'],\n",
    "        'place_url': place['place_url'],\n",
    "        'road_address_name': place['road_address_name'],\n",
    "        'x': place['x'],\n",
    "        'y': place['y']\n",
    "    })"
   ]
  },
  {
   "cell_type": "code",
   "execution_count": 4,
   "id": "cdd93014-1d31-4258-8483-de0720a2c03f",
   "metadata": {},
   "outputs": [
    {
     "data": {
      "text/plain": [
       "135"
      ]
     },
     "execution_count": 4,
     "metadata": {},
     "output_type": "execute_result"
    }
   ],
   "source": [
    "len(all_data)"
   ]
  },
  {
   "cell_type": "markdown",
   "id": "df38c189-2e4e-4a57-bcc8-ae9f4d2e0822",
   "metadata": {},
   "source": [
    "## comment 수집하기"
   ]
  },
  {
   "cell_type": "code",
   "execution_count": 5,
   "id": "b96ae7ab-c591-4927-8b78-a6487f3042c8",
   "metadata": {},
   "outputs": [],
   "source": [
    "# 각 가게에 부여된 id와 마지막 comment id 를 넣을 수 있게 format 삽입\n",
    "COMMENT_URL = \"https://place.map.kakao.com/m/commentlist/v/{}/{}?order=USEFUL&onlyPhotoComment=false\""
   ]
  },
  {
   "cell_type": "code",
   "execution_count": 6,
   "id": "0c7dd914-fb54-4ac9-ab5d-562b6c1a58ea",
   "metadata": {},
   "outputs": [
    {
     "data": {
      "text/plain": [
       "['21398341',\n",
       " '614833390',\n",
       " '7914330',\n",
       " '401292599',\n",
       " '26644530',\n",
       " '1462731560',\n",
       " '1255299690',\n",
       " '16039548',\n",
       " '27244728',\n",
       " '11152625',\n",
       " '21445943',\n",
       " '1102847581',\n",
       " '302317049',\n",
       " '8081393',\n",
       " '1644608542',\n",
       " '10335617',\n",
       " '2092235998',\n",
       " '450580125',\n",
       " '12077369',\n",
       " '26596136',\n",
       " '9963594',\n",
       " '8670706',\n",
       " '986888165',\n",
       " '67078466',\n",
       " '1711121947',\n",
       " '13582387',\n",
       " '1398440352',\n",
       " '10346282',\n",
       " '954522598',\n",
       " '34995480',\n",
       " '10335617',\n",
       " '2092235998',\n",
       " '450580125',\n",
       " '12077369',\n",
       " '26596136',\n",
       " '9963594',\n",
       " '8670706',\n",
       " '986888165',\n",
       " '67078466',\n",
       " '1711121947',\n",
       " '13582387',\n",
       " '1398440352',\n",
       " '10346282',\n",
       " '954522598',\n",
       " '34995480',\n",
       " '10335617',\n",
       " '2092235998',\n",
       " '450580125',\n",
       " '12077369',\n",
       " '26596136',\n",
       " '9963594',\n",
       " '8670706',\n",
       " '986888165',\n",
       " '67078466',\n",
       " '1711121947',\n",
       " '13582387',\n",
       " '1398440352',\n",
       " '10346282',\n",
       " '954522598',\n",
       " '34995480',\n",
       " '1622865435',\n",
       " '8123221',\n",
       " '53292857',\n",
       " '27272711',\n",
       " '1797970569',\n",
       " '1767349854',\n",
       " '965893653',\n",
       " '13337463',\n",
       " '443293859',\n",
       " '18514677',\n",
       " '19382069',\n",
       " '21089840',\n",
       " '12771116',\n",
       " '9012776',\n",
       " '132754911',\n",
       " '1985225055',\n",
       " '268235810',\n",
       " '27321311',\n",
       " '10368349',\n",
       " '18257217',\n",
       " '25606682',\n",
       " '2040780653',\n",
       " '15985522',\n",
       " '763211643',\n",
       " '22300586',\n",
       " '24643017',\n",
       " '895272833',\n",
       " '892514586',\n",
       " '10341266',\n",
       " '17419272',\n",
       " '26311060',\n",
       " '11263566',\n",
       " '1165755646',\n",
       " '308342289',\n",
       " '23734945',\n",
       " '18742750',\n",
       " '8312102',\n",
       " '1087043762',\n",
       " '934767425',\n",
       " '400281849',\n",
       " '1719380793',\n",
       " '26235884',\n",
       " '1226080781',\n",
       " '1736742094',\n",
       " '1641347883',\n",
       " '26311060',\n",
       " '11263566',\n",
       " '1165755646',\n",
       " '308342289',\n",
       " '23734945',\n",
       " '18742750',\n",
       " '8312102',\n",
       " '1087043762',\n",
       " '934767425',\n",
       " '400281849',\n",
       " '1719380793',\n",
       " '26235884',\n",
       " '1226080781',\n",
       " '1736742094',\n",
       " '1641347883',\n",
       " '26311060',\n",
       " '11263566',\n",
       " '1165755646',\n",
       " '308342289',\n",
       " '23734945',\n",
       " '18742750',\n",
       " '8312102',\n",
       " '1087043762',\n",
       " '934767425',\n",
       " '400281849',\n",
       " '1719380793',\n",
       " '26235884',\n",
       " '1226080781',\n",
       " '1736742094',\n",
       " '1641347883']"
      ]
     },
     "execution_count": 6,
     "metadata": {},
     "output_type": "execute_result"
    }
   ],
   "source": [
    "# 가게 id 추출\n",
    "ids = [d['id'] for d in all_data]\n",
    "ids"
   ]
  },
  {
   "cell_type": "code",
   "execution_count": 7,
   "id": "93fca638-0958-42d5-a6f7-fbe14ce4e344",
   "metadata": {},
   "outputs": [
    {
     "data": {
      "text/plain": [
       "135"
      ]
     },
     "execution_count": 7,
     "metadata": {},
     "output_type": "execute_result"
    }
   ],
   "source": [
    "len(ids)"
   ]
  },
  {
   "cell_type": "code",
   "execution_count": null,
   "id": "e3e61c51-eb9f-4c64-b802-de945f4d726b",
   "metadata": {},
   "outputs": [],
   "source": [
    "all_comments = []\n",
    "for id in ids:\n",
    "    # 첫 번쨰 코멘트의 id는 무조건 0\n",
    "    comment_id = 0\n",
    "\n",
    "    # has_next가 true 면 마지막 코멘트 id를 새롭게 넣어 계속 크롤링\n",
    "    has_next = True\n",
    "\n",
    "    while has_next:\n",
    "        # 수집해야 할 url 설정\n",
    "        SCRAP_COMMENT_URL = COMMENT_URL.format(id, comment_id)\n",
    "        # 만들어진 url로 요청\n",
    "        response = requests.get(SCRAP_COMMENT_URL)\n",
    "        comment_data = response.json()['comment']\n",
    "        # 댓글 데이터 가져오기\n",
    "        comment_list = comment_data['list']\n",
    "        all_comments.extend(comment_list) # 1차원 배열로 쭉 이어붙이기\n",
    "        # 다음 페이지 존재 여부 확인\n",
    "        has_next = comment_data['hasNext']\n",
    "        # has_next 가 True 인 경우 마지막 코멘트의 id를 comment_id로 설정\n",
    "        if has_next:\n",
    "            comment_id = comment_list[-1]['commentid']\n",
    "\n",
    "        print(comment_list)\n",
    "\n",
    "all_comments"
   ]
  },
  {
   "cell_type": "code",
   "execution_count": 9,
   "id": "13f3ffb8-eb97-4d5d-943c-161a8233b9f6",
   "metadata": {},
   "outputs": [
    {
     "data": {
      "text/plain": [
       "3052"
      ]
     },
     "execution_count": 9,
     "metadata": {},
     "output_type": "execute_result"
    }
   ],
   "source": [
    "len(all_comments)"
   ]
  },
  {
   "cell_type": "code",
   "execution_count": 10,
   "id": "aa3e2853-c674-4bd6-901a-51e71fd51b32",
   "metadata": {
    "scrolled": true
   },
   "outputs": [
    {
     "data": {
      "text/html": [
       "<div>\n",
       "<style scoped>\n",
       "    .dataframe tbody tr th:only-of-type {\n",
       "        vertical-align: middle;\n",
       "    }\n",
       "\n",
       "    .dataframe tbody tr th {\n",
       "        vertical-align: top;\n",
       "    }\n",
       "\n",
       "    .dataframe thead th {\n",
       "        text-align: right;\n",
       "    }\n",
       "</style>\n",
       "<table border=\"1\" class=\"dataframe\">\n",
       "  <thead>\n",
       "    <tr style=\"text-align: right;\">\n",
       "      <th></th>\n",
       "      <th>contents</th>\n",
       "      <th>point</th>\n",
       "    </tr>\n",
       "  </thead>\n",
       "  <tbody>\n",
       "    <tr>\n",
       "      <th>0</th>\n",
       "      <td>다 알바임?\\n\\n밥은 말랐고 회는 ..\\n\\n하.. \\n\\n오랜만이네 1점.</td>\n",
       "      <td>1</td>\n",
       "    </tr>\n",
       "    <tr>\n",
       "      <th>1</th>\n",
       "      <td>세번 방문했는데 갈 때마다 만족했습니다. 바쁘고 정신 없을텐데도 사장님분들 넘 친절...</td>\n",
       "      <td>5</td>\n",
       "    </tr>\n",
       "    <tr>\n",
       "      <th>2</th>\n",
       "      <td>친절하신데ㅜ 초밥 맛은 그냥...</td>\n",
       "      <td>3</td>\n",
       "    </tr>\n",
       "    <tr>\n",
       "      <th>3</th>\n",
       "      <td>가장 먹을만한게 활어라 활어를 3-4번 시켜먹었는데 그만 먹길 바라셨는지.. 제가 ...</td>\n",
       "      <td>2</td>\n",
       "    </tr>\n",
       "    <tr>\n",
       "      <th>4</th>\n",
       "      <td>가성비 좋고, 사장님도 너무 친절하셨어요👍🏻👍🏻</td>\n",
       "      <td>4</td>\n",
       "    </tr>\n",
       "    <tr>\n",
       "      <th>...</th>\n",
       "      <td>...</td>\n",
       "      <td>...</td>\n",
       "    </tr>\n",
       "    <tr>\n",
       "      <th>3047</th>\n",
       "      <td>NaN</td>\n",
       "      <td>3</td>\n",
       "    </tr>\n",
       "    <tr>\n",
       "      <th>3048</th>\n",
       "      <td>적당히맛잇음</td>\n",
       "      <td>4</td>\n",
       "    </tr>\n",
       "    <tr>\n",
       "      <th>3049</th>\n",
       "      <td>NaN</td>\n",
       "      <td>4</td>\n",
       "    </tr>\n",
       "    <tr>\n",
       "      <th>3050</th>\n",
       "      <td>여긴 인생 중국 맛집임. 확실함.</td>\n",
       "      <td>5</td>\n",
       "    </tr>\n",
       "    <tr>\n",
       "      <th>3051</th>\n",
       "      <td>NaN</td>\n",
       "      <td>3</td>\n",
       "    </tr>\n",
       "  </tbody>\n",
       "</table>\n",
       "<p>3052 rows × 2 columns</p>\n",
       "</div>"
      ],
      "text/plain": [
       "                                               contents  point\n",
       "0           다 알바임?\\n\\n밥은 말랐고 회는 ..\\n\\n하.. \\n\\n오랜만이네 1점.      1\n",
       "1     세번 방문했는데 갈 때마다 만족했습니다. 바쁘고 정신 없을텐데도 사장님분들 넘 친절...      5\n",
       "2                                   친절하신데ㅜ 초밥 맛은 그냥...       3\n",
       "3     가장 먹을만한게 활어라 활어를 3-4번 시켜먹었는데 그만 먹길 바라셨는지.. 제가 ...      2\n",
       "4                            가성비 좋고, 사장님도 너무 친절하셨어요👍🏻👍🏻      4\n",
       "...                                                 ...    ...\n",
       "3047                                                NaN      3\n",
       "3048                                             적당히맛잇음      4\n",
       "3049                                                NaN      4\n",
       "3050                                 여긴 인생 중국 맛집임. 확실함.      5\n",
       "3051                                                NaN      3\n",
       "\n",
       "[3052 rows x 2 columns]"
      ]
     },
     "execution_count": 10,
     "metadata": {},
     "output_type": "execute_result"
    }
   ],
   "source": [
    "import pandas as pd\n",
    "\n",
    "comment_df = pd.DataFrame(all_comments)\n",
    "comment_df_filtered = comment_df[['contents', 'point']]\n",
    "comment_df_filtered"
   ]
  },
  {
   "cell_type": "code",
   "execution_count": 11,
   "id": "0d35a7a0-f220-49ae-a61e-356060094aa4",
   "metadata": {},
   "outputs": [
    {
     "data": {
      "text/plain": [
       "<Axes: xlabel='point'>"
      ]
     },
     "execution_count": 11,
     "metadata": {},
     "output_type": "execute_result"
    },
    {
     "data": {
      "image/png": "[encoded data removed]",
      "text/plain": [
       "<Figure size 640x480 with 1 Axes>"
      ]
     },
     "metadata": {},
     "output_type": "display_data"
    }
   ],
   "source": [
    "comment_df_filtered['point'].value_counts().plot(kind='bar')"
   ]
  },
  {
   "cell_type": "code",
   "execution_count": 60,
   "id": "95d5dbc2-328c-4792-ae28-d5f8919b4571",
   "metadata": {},
   "outputs": [
    {
     "name": "stdout",
     "output_type": "stream",
     "text": [
      "Collecting openpyxl\n",
      "  Downloading openpyxl-3.1.5-py2.py3-none-any.whl.metadata (2.5 kB)\n",
      "Collecting et-xmlfile (from openpyxl)\n",
      "  Downloading et_xmlfile-1.1.0-py3-none-any.whl.metadata (1.8 kB)\n",
      "Downloading openpyxl-3.1.5-py2.py3-none-any.whl (250 kB)\n",
      "   ---------------------------------------- 0.0/250.9 kB ? eta -:--:--\n",
      "   --------------------------------------- 250.9/250.9 kB 15.0 MB/s eta 0:00:00\n",
      "Downloading et_xmlfile-1.1.0-py3-none-any.whl (4.7 kB)\n",
      "Installing collected packages: et-xmlfile, openpyxl\n",
      "Successfully installed et-xmlfile-1.1.0 openpyxl-3.1.5\n",
      "Note: you may need to restart the kernel to use updated packages.\n"
     ]
    }
   ],
   "source": [
    "pip install openpyxl"
   ]
  },
  {
   "cell_type": "code",
   "execution_count": 12,
   "id": "a86a5c97-2c71-422f-bc28-6ca118d7e2c0",
   "metadata": {},
   "outputs": [],
   "source": [
    "comment_df_filtered.to_excel('comments_seoul.xlsx', index=False)"
   ]
  }
 ],
 "metadata": {
  "kernelspec": {
   "display_name": "Python 3 (ipykernel)",
   "language": "python",
   "name": "python3"
  },
  "language_info": {
   "codemirror_mode": {
    "name": "ipython",
    "version": 3
   },
   "file_extension": ".py",
   "mimetype": "text/x-python",
   "name": "python",
   "nbconvert_exporter": "python",
   "pygments_lexer": "ipython3",
   "version": "3.8.18"
  }
 },
 "nbformat": 4,
 "nbformat_minor": 5
}
