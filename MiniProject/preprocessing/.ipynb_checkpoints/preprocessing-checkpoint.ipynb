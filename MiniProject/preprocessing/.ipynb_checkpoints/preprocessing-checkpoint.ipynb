{
 "cells": [
  {
   "cell_type": "code",
   "execution_count": 2,
   "id": "37312c7f-b97a-4e8f-a248-b11d0af605b3",
   "metadata": {},
   "outputs": [
    {
     "name": "stdout",
     "output_type": "stream",
     "text": [
      "Requirement already satisfied: openpyxl in c:\\users\\user\\.conda\\envs\\ml-env\\lib\\site-packages (3.1.5)\n",
      "Requirement already satisfied: et-xmlfile in c:\\users\\user\\.conda\\envs\\ml-env\\lib\\site-packages (from openpyxl) (1.1.0)\n"
     ]
    }
   ],
   "source": [
    "! pip install openpyxl"
   ]
  },
  {
   "cell_type": "code",
   "execution_count": 3,
   "id": "dc367ad8-8184-480f-8e16-5c34d1119483",
   "metadata": {},
   "outputs": [],
   "source": [
    "import pandas as pd\n",
    "import numpy as np\n",
    "\n",
    "import warnings\n",
    "warnings.filterwarnings('ignore')"
   ]
  },
  {
   "cell_type": "code",
   "execution_count": 4,
   "id": "ceddaeb6-2056-4963-9a92-e66649cd0311",
   "metadata": {},
   "outputs": [
    {
     "data": {
      "text/html": [
       "<div>\n",
       "<style scoped>\n",
       "    .dataframe tbody tr th:only-of-type {\n",
       "        vertical-align: middle;\n",
       "    }\n",
       "\n",
       "    .dataframe tbody tr th {\n",
       "        vertical-align: top;\n",
       "    }\n",
       "\n",
       "    .dataframe thead th {\n",
       "        text-align: right;\n",
       "    }\n",
       "</style>\n",
       "<table border=\"1\" class=\"dataframe\">\n",
       "  <thead>\n",
       "    <tr style=\"text-align: right;\">\n",
       "      <th></th>\n",
       "      <th>Unnamed: 0</th>\n",
       "      <th>contents</th>\n",
       "      <th>point</th>\n",
       "    </tr>\n",
       "  </thead>\n",
       "  <tbody>\n",
       "    <tr>\n",
       "      <th>0</th>\n",
       "      <td>0</td>\n",
       "      <td>다 알바임?\\n\\n밥은 말랐고 회는 ..\\n\\n하.. \\n\\n오랜만이네 1점.</td>\n",
       "      <td>1</td>\n",
       "    </tr>\n",
       "    <tr>\n",
       "      <th>1</th>\n",
       "      <td>1</td>\n",
       "      <td>세번 방문했는데 갈 때마다 만족했습니다. 바쁘고 정신 없을텐데도 사장님분들 넘 친절...</td>\n",
       "      <td>5</td>\n",
       "    </tr>\n",
       "    <tr>\n",
       "      <th>2</th>\n",
       "      <td>2</td>\n",
       "      <td>친절하신데ㅜ 초밥 맛은 그냥...</td>\n",
       "      <td>3</td>\n",
       "    </tr>\n",
       "    <tr>\n",
       "      <th>3</th>\n",
       "      <td>3</td>\n",
       "      <td>가장 먹을만한게 활어라 활어를 3-4번 시켜먹었는데 그만 먹길 바라셨는지.. 제가 ...</td>\n",
       "      <td>2</td>\n",
       "    </tr>\n",
       "    <tr>\n",
       "      <th>4</th>\n",
       "      <td>4</td>\n",
       "      <td>가성비 좋고, 사장님도 너무 친절하셨어요👍🏻👍🏻</td>\n",
       "      <td>4</td>\n",
       "    </tr>\n",
       "  </tbody>\n",
       "</table>\n",
       "</div>"
      ],
      "text/plain": [
       "   Unnamed: 0                                           contents  point\n",
       "0           0        다 알바임?\\n\\n밥은 말랐고 회는 ..\\n\\n하.. \\n\\n오랜만이네 1점.      1\n",
       "1           1  세번 방문했는데 갈 때마다 만족했습니다. 바쁘고 정신 없을텐데도 사장님분들 넘 친절...      5\n",
       "2           2                                친절하신데ㅜ 초밥 맛은 그냥...       3\n",
       "3           3  가장 먹을만한게 활어라 활어를 3-4번 시켜먹었는데 그만 먹길 바라셨는지.. 제가 ...      2\n",
       "4           4                         가성비 좋고, 사장님도 너무 친절하셨어요👍🏻👍🏻      4"
      ]
     },
     "execution_count": 4,
     "metadata": {},
     "output_type": "execute_result"
    }
   ],
   "source": [
    "df = pd.read_excel(\"../crawling/data/all_comments.xlsx\", engine='openpyxl')\n",
    "df.head()"
   ]
  },
  {
   "cell_type": "code",
   "execution_count": 5,
   "id": "f0616bde-905c-4433-95ca-9a5b03be0869",
   "metadata": {},
   "outputs": [
    {
     "name": "stdout",
     "output_type": "stream",
     "text": [
      "<class 'pandas.core.frame.DataFrame'>\n",
      "RangeIndex: 5793 entries, 0 to 5792\n",
      "Data columns (total 3 columns):\n",
      " #   Column      Non-Null Count  Dtype \n",
      "---  ------      --------------  ----- \n",
      " 0   Unnamed: 0  5793 non-null   int64 \n",
      " 1   contents    5030 non-null   object\n",
      " 2   point       5793 non-null   int64 \n",
      "dtypes: int64(2), object(1)\n",
      "memory usage: 135.9+ KB\n"
     ]
    }
   ],
   "source": [
    "df.info()"
   ]
  },
  {
   "cell_type": "code",
   "execution_count": 6,
   "id": "ae085cd9-c668-4243-b026-824383dc5fca",
   "metadata": {},
   "outputs": [
    {
     "data": {
      "text/plain": [
       "Unnamed: 0      0\n",
       "contents      763\n",
       "point           0\n",
       "dtype: int64"
      ]
     },
     "execution_count": 6,
     "metadata": {},
     "output_type": "execute_result"
    }
   ],
   "source": [
    "df.isnull().sum()"
   ]
  },
  {
   "cell_type": "code",
   "execution_count": 7,
   "id": "718ea8be-eb17-473d-a4f7-7db3e7058ad3",
   "metadata": {},
   "outputs": [
    {
     "name": "stdout",
     "output_type": "stream",
     "text": [
      "4923\n"
     ]
    },
    {
     "data": {
      "text/plain": [
       "Unnamed: 0    4924\n",
       "contents      4923\n",
       "point            5\n",
       "dtype: int64"
      ]
     },
     "execution_count": 7,
     "metadata": {},
     "output_type": "execute_result"
    }
   ],
   "source": [
    "print(df['contents'].nunique())\n",
    "df = df.drop_duplicates(subset=['contents'])\n",
    "df.nunique()"
   ]
  },
  {
   "cell_type": "code",
   "execution_count": 8,
   "id": "f019f830-baf0-4bdc-9780-6e2f1c2d07ea",
   "metadata": {},
   "outputs": [
    {
     "data": {
      "text/plain": [
       "0"
      ]
     },
     "execution_count": 8,
     "metadata": {},
     "output_type": "execute_result"
    }
   ],
   "source": [
    "df = df.dropna(how='any')\n",
    "df.isnull().values.sum()"
   ]
  },
  {
   "cell_type": "code",
   "execution_count": 9,
   "id": "73e62400-1d9a-425f-a8df-5a804560adad",
   "metadata": {},
   "outputs": [
    {
     "data": {
      "text/html": [
       "<div>\n",
       "<style scoped>\n",
       "    .dataframe tbody tr th:only-of-type {\n",
       "        vertical-align: middle;\n",
       "    }\n",
       "\n",
       "    .dataframe tbody tr th {\n",
       "        vertical-align: top;\n",
       "    }\n",
       "\n",
       "    .dataframe thead th {\n",
       "        text-align: right;\n",
       "    }\n",
       "</style>\n",
       "<table border=\"1\" class=\"dataframe\">\n",
       "  <thead>\n",
       "    <tr style=\"text-align: right;\">\n",
       "      <th></th>\n",
       "      <th>Unnamed: 0</th>\n",
       "      <th>contents</th>\n",
       "      <th>point</th>\n",
       "    </tr>\n",
       "  </thead>\n",
       "  <tbody>\n",
       "    <tr>\n",
       "      <th>0</th>\n",
       "      <td>0</td>\n",
       "      <td>다 알바임밥은 말랐고 회는 하 오랜만이네 점</td>\n",
       "      <td>1</td>\n",
       "    </tr>\n",
       "    <tr>\n",
       "      <th>1</th>\n",
       "      <td>1</td>\n",
       "      <td>세번 방문했는데 갈 때마다 만족했습니다 바쁘고 정신 없을텐데도 사장님분들 넘 친절하...</td>\n",
       "      <td>5</td>\n",
       "    </tr>\n",
       "    <tr>\n",
       "      <th>2</th>\n",
       "      <td>2</td>\n",
       "      <td>친절하신데ㅜ 초밥 맛은 그냥</td>\n",
       "      <td>3</td>\n",
       "    </tr>\n",
       "    <tr>\n",
       "      <th>3</th>\n",
       "      <td>3</td>\n",
       "      <td>가장 먹을만한게 활어라 활어를 번 시켜먹었는데 그만 먹길 바라셨는지 제가 활어를 또...</td>\n",
       "      <td>2</td>\n",
       "    </tr>\n",
       "    <tr>\n",
       "      <th>4</th>\n",
       "      <td>4</td>\n",
       "      <td>가성비 좋고 사장님도 너무 친절하셨어요</td>\n",
       "      <td>4</td>\n",
       "    </tr>\n",
       "  </tbody>\n",
       "</table>\n",
       "</div>"
      ],
      "text/plain": [
       "   Unnamed: 0                                           contents  point\n",
       "0           0                           다 알바임밥은 말랐고 회는 하 오랜만이네 점      1\n",
       "1           1  세번 방문했는데 갈 때마다 만족했습니다 바쁘고 정신 없을텐데도 사장님분들 넘 친절하...      5\n",
       "2           2                                   친절하신데ㅜ 초밥 맛은 그냥       3\n",
       "3           3  가장 먹을만한게 활어라 활어를 번 시켜먹었는데 그만 먹길 바라셨는지 제가 활어를 또...      2\n",
       "4           4                              가성비 좋고 사장님도 너무 친절하셨어요      4"
      ]
     },
     "execution_count": 9,
     "metadata": {},
     "output_type": "execute_result"
    }
   ],
   "source": [
    "import re\n",
    "\n",
    "df['contents'] = df['contents'].apply(lambda x : re.sub(\"[^ㄱ-ㅎㅏ-ㅣ가-힣 ]\", \"\", x))\n",
    "df.head()"
   ]
  },
  {
   "cell_type": "code",
   "execution_count": 10,
   "id": "64a23d3c-6264-498d-b3b3-bdf156e35aa9",
   "metadata": {},
   "outputs": [
    {
     "data": {
      "text/plain": [
       "contents\n",
       "    10\n",
       "Name: count, dtype: int64"
      ]
     },
     "execution_count": 10,
     "metadata": {},
     "output_type": "execute_result"
    }
   ],
   "source": [
    "df.loc[df['contents'] =='', 'contents'].value_counts()"
   ]
  },
  {
   "cell_type": "code",
   "execution_count": 11,
   "id": "5dcbf13d-65c3-4923-be54-5931fe04f856",
   "metadata": {},
   "outputs": [
    {
     "name": "stdout",
     "output_type": "stream",
     "text": [
      "<class 'pandas.core.frame.DataFrame'>\n",
      "Index: 4913 entries, 0 to 5791\n",
      "Data columns (total 3 columns):\n",
      " #   Column      Non-Null Count  Dtype \n",
      "---  ------      --------------  ----- \n",
      " 0   Unnamed: 0  4913 non-null   int64 \n",
      " 1   contents    4913 non-null   object\n",
      " 2   point       4913 non-null   int64 \n",
      "dtypes: int64(2), object(1)\n",
      "memory usage: 153.5+ KB\n"
     ]
    }
   ],
   "source": [
    "df['contents'].replace(\"\", np.nan, inplace=True)\n",
    "df = df.dropna(how='any')\n",
    "df.info()"
   ]
  },
  {
   "cell_type": "code",
   "execution_count": 12,
   "id": "37d8f81c-9ad3-4b53-8644-f7da728ea13b",
   "metadata": {},
   "outputs": [
    {
     "name": "stdout",
     "output_type": "stream",
     "text": [
      "<class 'pandas.core.frame.DataFrame'>\n",
      "Index: 4913 entries, 0 to 5791\n",
      "Data columns (total 3 columns):\n",
      " #   Column      Non-Null Count  Dtype \n",
      "---  ------      --------------  ----- \n",
      " 0   Unnamed: 0  4913 non-null   int64 \n",
      " 1   contents    4913 non-null   object\n",
      " 2   point       4913 non-null   int64 \n",
      "dtypes: int64(2), object(1)\n",
      "memory usage: 153.5+ KB\n"
     ]
    }
   ],
   "source": [
    "df.info()"
   ]
  },
  {
   "cell_type": "code",
   "execution_count": 13,
   "id": "d63daed7-5297-4817-b1e7-632b0932ad95",
   "metadata": {},
   "outputs": [
    {
     "data": {
      "text/plain": [
       "<Axes: xlabel='point'>"
      ]
     },
     "execution_count": 13,
     "metadata": {},
     "output_type": "execute_result"
    },
    {
     "data": {
      "image/png": "[encoded data removed]",
      "text/plain": [
       "<Figure size 640x480 with 1 Axes>"
      ]
     },
     "metadata": {},
     "output_type": "display_data"
    }
   ],
   "source": [
    "df['point'].value_counts().plot(kind='bar')"
   ]
  },
  {
   "cell_type": "code",
   "execution_count": 14,
   "id": "2e451d15-804f-4ffb-9851-d65ab39b5041",
   "metadata": {},
   "outputs": [],
   "source": [
    "df['label'] = df['point'].apply(lambda x: 0 if x in [1, 2, 3] else 1)"
   ]
  },
  {
   "cell_type": "code",
   "execution_count": 15,
   "id": "2aa15133-3f83-4e82-baa2-8d13989aaf6f",
   "metadata": {},
   "outputs": [
    {
     "data": {
      "text/plain": [
       "label\n",
       "0    1447\n",
       "1    1447\n",
       "Name: count, dtype: int64"
      ]
     },
     "execution_count": 15,
     "metadata": {},
     "output_type": "execute_result"
    }
   ],
   "source": [
    "negative_count = df[df['label'] == 0].shape[0]\n",
    "positive_sample = df[df['label'] == 1].sample(n=negative_count, random_state=42)\n",
    "df = pd.concat([df[df['label'] == 0], positive_sample])\n",
    "df['label'].value_counts()"
   ]
  },
  {
   "cell_type": "code",
   "execution_count": 16,
   "id": "be0320a1-8054-4eaa-beeb-a9ff945f4b7a",
   "metadata": {},
   "outputs": [
    {
     "data": {
      "text/html": [
       "<div>\n",
       "<style scoped>\n",
       "    .dataframe tbody tr th:only-of-type {\n",
       "        vertical-align: middle;\n",
       "    }\n",
       "\n",
       "    .dataframe tbody tr th {\n",
       "        vertical-align: top;\n",
       "    }\n",
       "\n",
       "    .dataframe thead th {\n",
       "        text-align: right;\n",
       "    }\n",
       "</style>\n",
       "<table border=\"1\" class=\"dataframe\">\n",
       "  <thead>\n",
       "    <tr style=\"text-align: right;\">\n",
       "      <th></th>\n",
       "      <th>Unnamed: 0</th>\n",
       "      <th>contents</th>\n",
       "      <th>point</th>\n",
       "      <th>label</th>\n",
       "    </tr>\n",
       "  </thead>\n",
       "  <tbody>\n",
       "    <tr>\n",
       "      <th>4435</th>\n",
       "      <td>4435</td>\n",
       "      <td>완전 맛있어요ㅠㅜㅜ신기하게 새콤한 맛이나요</td>\n",
       "      <td>5</td>\n",
       "      <td>1</td>\n",
       "    </tr>\n",
       "    <tr>\n",
       "      <th>718</th>\n",
       "      <td>718</td>\n",
       "      <td>냉메밀이랑 라멘 선주문 후 분 웨이팅메밀도 맛있었지만 라멘이 확실히 더 맛있었다메밀...</td>\n",
       "      <td>4</td>\n",
       "      <td>1</td>\n",
       "    </tr>\n",
       "    <tr>\n",
       "      <th>5147</th>\n",
       "      <td>5147</td>\n",
       "      <td>빙수 맛있음 여러종류 있음 양도있음</td>\n",
       "      <td>4</td>\n",
       "      <td>1</td>\n",
       "    </tr>\n",
       "    <tr>\n",
       "      <th>5762</th>\n",
       "      <td>5762</td>\n",
       "      <td>홍대에서 고기를 구워주는 소고기 맛집</td>\n",
       "      <td>5</td>\n",
       "      <td>1</td>\n",
       "    </tr>\n",
       "    <tr>\n",
       "      <th>2732</th>\n",
       "      <td>2732</td>\n",
       "      <td>칼칼한 국물 맛이 좋았고 비린내가 없는 훌륭한 조림</td>\n",
       "      <td>5</td>\n",
       "      <td>1</td>\n",
       "    </tr>\n",
       "    <tr>\n",
       "      <th>...</th>\n",
       "      <td>...</td>\n",
       "      <td>...</td>\n",
       "      <td>...</td>\n",
       "      <td>...</td>\n",
       "    </tr>\n",
       "    <tr>\n",
       "      <th>4154</th>\n",
       "      <td>4154</td>\n",
       "      <td>너무 맛있어용 잘 먹구 갑니당</td>\n",
       "      <td>5</td>\n",
       "      <td>1</td>\n",
       "    </tr>\n",
       "    <tr>\n",
       "      <th>2637</th>\n",
       "      <td>2637</td>\n",
       "      <td>가성비 좋고 맛있네요 ㅋㅎ 혼밥 최공</td>\n",
       "      <td>5</td>\n",
       "      <td>1</td>\n",
       "    </tr>\n",
       "    <tr>\n",
       "      <th>2601</th>\n",
       "      <td>2601</td>\n",
       "      <td>그냥 괜찮은데 뭘더바람ㅋㅋ국밥집에서</td>\n",
       "      <td>4</td>\n",
       "      <td>1</td>\n",
       "    </tr>\n",
       "    <tr>\n",
       "      <th>181</th>\n",
       "      <td>181</td>\n",
       "      <td>노포지만 깔끔하고 주력 평냉 맛있다술 안주들도 가성비 좋고 솜씨 좋음</td>\n",
       "      <td>4</td>\n",
       "      <td>1</td>\n",
       "    </tr>\n",
       "    <tr>\n",
       "      <th>4414</th>\n",
       "      <td>4414</td>\n",
       "      <td>직원분들도 친절하시구 음식도 친절하네요 완전 맛있게 먹구 종종 생각나게 하는 맛 때...</td>\n",
       "      <td>5</td>\n",
       "      <td>1</td>\n",
       "    </tr>\n",
       "  </tbody>\n",
       "</table>\n",
       "<p>1447 rows × 4 columns</p>\n",
       "</div>"
      ],
      "text/plain": [
       "      Unnamed: 0                                           contents  point  \\\n",
       "4435        4435                            완전 맛있어요ㅠㅜㅜ신기하게 새콤한 맛이나요      5   \n",
       "718          718  냉메밀이랑 라멘 선주문 후 분 웨이팅메밀도 맛있었지만 라멘이 확실히 더 맛있었다메밀...      4   \n",
       "5147        5147                                빙수 맛있음 여러종류 있음 양도있음      4   \n",
       "5762        5762                               홍대에서 고기를 구워주는 소고기 맛집      5   \n",
       "2732        2732                       칼칼한 국물 맛이 좋았고 비린내가 없는 훌륭한 조림      5   \n",
       "...          ...                                                ...    ...   \n",
       "4154        4154                                   너무 맛있어용 잘 먹구 갑니당      5   \n",
       "2637        2637                               가성비 좋고 맛있네요 ㅋㅎ 혼밥 최공      5   \n",
       "2601        2601                                그냥 괜찮은데 뭘더바람ㅋㅋ국밥집에서      4   \n",
       "181          181             노포지만 깔끔하고 주력 평냉 맛있다술 안주들도 가성비 좋고 솜씨 좋음      4   \n",
       "4414        4414  직원분들도 친절하시구 음식도 친절하네요 완전 맛있게 먹구 종종 생각나게 하는 맛 때...      5   \n",
       "\n",
       "      label  \n",
       "4435      1  \n",
       "718       1  \n",
       "5147      1  \n",
       "5762      1  \n",
       "2732      1  \n",
       "...     ...  \n",
       "4154      1  \n",
       "2637      1  \n",
       "2601      1  \n",
       "181       1  \n",
       "4414      1  \n",
       "\n",
       "[1447 rows x 4 columns]"
      ]
     },
     "execution_count": 16,
     "metadata": {},
     "output_type": "execute_result"
    }
   ],
   "source": [
    "df.loc[df['label']== 1]"
   ]
  },
  {
   "cell_type": "code",
   "execution_count": 17,
   "id": "b15bdd00-0679-448f-81cc-ac2964997124",
   "metadata": {},
   "outputs": [],
   "source": [
    "df.to_excel('data/comments_preprocessed.xlsx')"
   ]
  },
  {
   "cell_type": "code",
   "execution_count": null,
   "id": "c337bbe0-a2f3-4db7-afb7-06d039af8b6b",
   "metadata": {},
   "outputs": [],
   "source": []
  }
 ],
 "metadata": {
  "kernelspec": {
   "display_name": "Python 3 (ipykernel)",
   "language": "python",
   "name": "python3"
  },
  "language_info": {
   "codemirror_mode": {
    "name": "ipython",
    "version": 3
   },
   "file_extension": ".py",
   "mimetype": "text/x-python",
   "name": "python",
   "nbconvert_exporter": "python",
   "pygments_lexer": "ipython3",
   "version": "3.8.18"
  }
 },
 "nbformat": 4,
 "nbformat_minor": 5
}
