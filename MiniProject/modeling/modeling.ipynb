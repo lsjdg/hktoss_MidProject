{
 "cells": [
  {
   "cell_type": "code",
   "execution_count": 51,
   "id": "214e3aab",
   "metadata": {},
   "outputs": [
    {
     "name": "stdout",
     "output_type": "stream",
     "text": [
      "Requirement already satisfied: openpyxl in c:\\users\\user\\.conda\\envs\\ml-env\\lib\\site-packages (3.1.5)\n",
      "Requirement already satisfied: et-xmlfile in c:\\users\\user\\.conda\\envs\\ml-env\\lib\\site-packages (from openpyxl) (1.1.0)\n",
      "Note: you may need to restart the kernel to use updated packages.\n"
     ]
    }
   ],
   "source": [
    "pip install openpyxl"
   ]
  },
  {
   "cell_type": "code",
   "execution_count": 53,
   "id": "f4a3a2bb-3b12-4272-9645-e9960d44c7e0",
   "metadata": {},
   "outputs": [
    {
     "data": {
      "text/plain": [
       "(2894, 5)"
      ]
     },
     "execution_count": 53,
     "metadata": {},
     "output_type": "execute_result"
    }
   ],
   "source": [
    "import pandas as pd\n",
    "\n",
    "comments_df = pd.read_excel('../preprocessing/data/comments_preprocessed.xlsx')\n",
    "comments_df.shape"
   ]
  },
  {
   "cell_type": "code",
   "execution_count": 54,
   "id": "7a5931af-4b3e-4aa9-8d43-0b650e698ceb",
   "metadata": {},
   "outputs": [
    {
     "data": {
      "text/html": [
       "<div>\n",
       "<style scoped>\n",
       "    .dataframe tbody tr th:only-of-type {\n",
       "        vertical-align: middle;\n",
       "    }\n",
       "\n",
       "    .dataframe tbody tr th {\n",
       "        vertical-align: top;\n",
       "    }\n",
       "\n",
       "    .dataframe thead th {\n",
       "        text-align: right;\n",
       "    }\n",
       "</style>\n",
       "<table border=\"1\" class=\"dataframe\">\n",
       "  <thead>\n",
       "    <tr style=\"text-align: right;\">\n",
       "      <th></th>\n",
       "      <th>contents</th>\n",
       "      <th>label</th>\n",
       "    </tr>\n",
       "  </thead>\n",
       "  <tbody>\n",
       "    <tr>\n",
       "      <th>0</th>\n",
       "      <td>다 알바임밥은 말랐고 회는 하 오랜만이네 점</td>\n",
       "      <td>0</td>\n",
       "    </tr>\n",
       "    <tr>\n",
       "      <th>1</th>\n",
       "      <td>친절하신데ㅜ 초밥 맛은 그냥</td>\n",
       "      <td>0</td>\n",
       "    </tr>\n",
       "    <tr>\n",
       "      <th>2</th>\n",
       "      <td>가장 먹을만한게 활어라 활어를 번 시켜먹었는데 그만 먹길 바라셨는지 제가 활어를 또...</td>\n",
       "      <td>0</td>\n",
       "    </tr>\n",
       "    <tr>\n",
       "      <th>3</th>\n",
       "      <td>사장님 친절하시구 걍 회전초밥 느낌임 기대 안하고 가면 ㄱㅊ 주변에 이정도 가성비 ...</td>\n",
       "      <td>0</td>\n",
       "    </tr>\n",
       "    <tr>\n",
       "      <th>4</th>\n",
       "      <td>적당히 무난히 맛있음 후토마키는 너무 맛있음</td>\n",
       "      <td>0</td>\n",
       "    </tr>\n",
       "  </tbody>\n",
       "</table>\n",
       "</div>"
      ],
      "text/plain": [
       "                                            contents  label\n",
       "0                           다 알바임밥은 말랐고 회는 하 오랜만이네 점      0\n",
       "1                                   친절하신데ㅜ 초밥 맛은 그냥       0\n",
       "2  가장 먹을만한게 활어라 활어를 번 시켜먹었는데 그만 먹길 바라셨는지 제가 활어를 또...      0\n",
       "3  사장님 친절하시구 걍 회전초밥 느낌임 기대 안하고 가면 ㄱㅊ 주변에 이정도 가성비 ...      0\n",
       "4                           적당히 무난히 맛있음 후토마키는 너무 맛있음      0"
      ]
     },
     "execution_count": 54,
     "metadata": {},
     "output_type": "execute_result"
    }
   ],
   "source": [
    "comments_df_filtered = comments_df[['contents', 'label']]\n",
    "comments_df_filtered.head()"
   ]
  },
  {
   "cell_type": "code",
   "execution_count": 55,
   "id": "7630eddb-080b-40fd-8ede-8fbacfce19e4",
   "metadata": {},
   "outputs": [
    {
     "name": "stdout",
     "output_type": "stream",
     "text": [
      "<class 'pandas.core.frame.DataFrame'>\n",
      "RangeIndex: 2894 entries, 0 to 2893\n",
      "Data columns (total 2 columns):\n",
      " #   Column    Non-Null Count  Dtype \n",
      "---  ------    --------------  ----- \n",
      " 0   contents  2894 non-null   object\n",
      " 1   label     2894 non-null   int64 \n",
      "dtypes: int64(1), object(1)\n",
      "memory usage: 45.3+ KB\n"
     ]
    }
   ],
   "source": [
    "comments_df_filtered.info()"
   ]
  },
  {
   "cell_type": "code",
   "execution_count": 56,
   "id": "170c2c2c",
   "metadata": {},
   "outputs": [
    {
     "data": {
      "text/plain": [
       "1447"
      ]
     },
     "execution_count": 56,
     "metadata": {},
     "output_type": "execute_result"
    }
   ],
   "source": [
    "comments_df_filtered.loc[comments_df_filtered['label'] == 1].shape[0]"
   ]
  },
  {
   "cell_type": "code",
   "execution_count": 57,
   "id": "3f89e018-054e-45df-9f73-f55480488429",
   "metadata": {},
   "outputs": [],
   "source": [
    "from sklearn.model_selection import train_test_split\n",
    "\n",
    "X_train, X_test, y_train, y_test = train_test_split(\n",
    "    comments_df_filtered['contents'],\n",
    "    comments_df_filtered['label'],\n",
    "    test_size=0.2,\n",
    "    random_state=42,\n",
    "    stratify=comments_df_filtered['label']\n",
    ")"
   ]
  },
  {
   "cell_type": "code",
   "execution_count": 58,
   "id": "0c6d83e9",
   "metadata": {},
   "outputs": [
    {
     "data": {
      "text/plain": [
       "2315"
      ]
     },
     "execution_count": 58,
     "metadata": {},
     "output_type": "execute_result"
    }
   ],
   "source": [
    "len(y_train)"
   ]
  },
  {
   "cell_type": "code",
   "execution_count": 59,
   "id": "1c72ba42",
   "metadata": {},
   "outputs": [
    {
     "data": {
      "application/vnd.jupyter.widget-view+json": {
       "model_id": "710133260d3c44e2a037db888d5a2f69",
       "version_major": 2,
       "version_minor": 0
      },
      "text/plain": [
       "  0%|          | 0/2315 [00:00<?, ?it/s]"
      ]
     },
     "metadata": {},
     "output_type": "display_data"
    }
   ],
   "source": [
    "from tqdm.notebook import tqdm\n",
    "from konlpy.tag import Okt\n",
    "\n",
    "okt = Okt()\n",
    "X_train_okt = []\n",
    "\n",
    "for sentence in tqdm(X_train):\n",
    "  # 형태소 분리 및 정규화, 어간추출\n",
    "  temp_X = okt.morphs(sentence, stem=True, norm=True)\n",
    "  X_train_okt.append(temp_X)"
   ]
  },
  {
   "cell_type": "code",
   "execution_count": 60,
   "id": "340c18d5",
   "metadata": {},
   "outputs": [
    {
     "data": {
      "text/plain": [
       "2315"
      ]
     },
     "execution_count": 60,
     "metadata": {},
     "output_type": "execute_result"
    }
   ],
   "source": [
    "len(X_train_okt)"
   ]
  },
  {
   "cell_type": "code",
   "execution_count": 61,
   "id": "25da8a83",
   "metadata": {},
   "outputs": [
    {
     "data": {
      "text/plain": [
       "<2315x5326 sparse matrix of type '<class 'numpy.float64'>'\n",
       "\twith 37295 stored elements in Compressed Sparse Row format>"
      ]
     },
     "execution_count": 61,
     "metadata": {},
     "output_type": "execute_result"
    }
   ],
   "source": [
    "from sklearn.feature_extraction.text import TfidfVectorizer\n",
    "\n",
    "tfidf_vectorizer = TfidfVectorizer()\n",
    "\n",
    "X_train_joined = [ ' '.join(words) for words in X_train_okt ]\n",
    "X_train_tfidf = tfidf_vectorizer.fit_transform(X_train_joined)\n",
    "X_train_tfidf"
   ]
  },
  {
   "cell_type": "code",
   "execution_count": 62,
   "id": "28371f77",
   "metadata": {},
   "outputs": [
    {
     "data": {
      "text/plain": [
       "5326"
      ]
     },
     "execution_count": 62,
     "metadata": {},
     "output_type": "execute_result"
    }
   ],
   "source": [
    "len(tfidf_vectorizer.vocabulary_)"
   ]
  },
  {
   "cell_type": "code",
   "execution_count": 63,
   "id": "2b3a5c17",
   "metadata": {},
   "outputs": [
    {
     "name": "stdout",
     "output_type": "stream",
     "text": [
      "Fitting 5 folds for each of 36 candidates, totalling 180 fits\n"
     ]
    }
   ],
   "source": [
    "from sklearn.linear_model import LogisticRegression\n",
    "from sklearn.model_selection import GridSearchCV\n",
    "\n",
    "param_grid = [\n",
    "    {'C': [0.01, 0.1, 1, 10], 'solver': ['liblinear'], 'penalty': ['l1', 'l2'], 'max_iter': [100, 200, 500]},\n",
    "    {'C': [0.01, 0.1, 1, 10], 'solver': ['lbfgs'], 'penalty': ['l2'], 'max_iter': [100, 200, 500]},\n",
    "]\n",
    "\n",
    "lr = LogisticRegression()\n",
    "grid_search = GridSearchCV(estimator=lr, param_grid=param_grid, cv=5, scoring='accuracy', n_jobs=-1, verbose=2)\n",
    "grid_search.fit(X_train_tfidf, y_train)\n",
    "\n",
    "best_lr = grid_search.best_estimator_"
   ]
  },
  {
   "cell_type": "code",
   "execution_count": 64,
   "id": "e4610b6f-db8c-44b7-a734-01ccb940f581",
   "metadata": {},
   "outputs": [],
   "source": [
    "best_params_df = pd.DataFrame([grid_search.best_params_])\n",
    "best_params_df.to_csv('best_params.csv', index=False)"
   ]
  },
  {
   "cell_type": "code",
   "execution_count": 65,
   "id": "ad035438",
   "metadata": {},
   "outputs": [
    {
     "data": {
      "application/vnd.jupyter.widget-view+json": {
       "model_id": "4d9a067513374bcf9ce6781fff38f2b7",
       "version_major": 2,
       "version_minor": 0
      },
      "text/plain": [
       "  0%|          | 0/579 [00:00<?, ?it/s]"
      ]
     },
     "metadata": {},
     "output_type": "display_data"
    }
   ],
   "source": [
    "X_test_okt = []\n",
    "\n",
    "for sentence in tqdm(X_test):\n",
    "  # 형태소 분리 및 정규화, 어간추출\n",
    "  temp_X = okt.morphs(sentence, stem=True, norm=True)\n",
    "  X_test_okt.append(temp_X)"
   ]
  },
  {
   "cell_type": "code",
   "execution_count": 66,
   "id": "14cd6b03",
   "metadata": {},
   "outputs": [
    {
     "data": {
      "text/plain": [
       "579"
      ]
     },
     "execution_count": 66,
     "metadata": {},
     "output_type": "execute_result"
    }
   ],
   "source": [
    "len(X_test_okt)"
   ]
  },
  {
   "cell_type": "code",
   "execution_count": 67,
   "id": "cce7470c",
   "metadata": {},
   "outputs": [
    {
     "data": {
      "text/plain": [
       "579"
      ]
     },
     "execution_count": 67,
     "metadata": {},
     "output_type": "execute_result"
    }
   ],
   "source": [
    "len(y_test)"
   ]
  },
  {
   "cell_type": "code",
   "execution_count": 68,
   "id": "29df61de",
   "metadata": {},
   "outputs": [
    {
     "data": {
      "text/plain": [
       "<579x5326 sparse matrix of type '<class 'numpy.float64'>'\n",
       "\twith 8667 stored elements in Compressed Sparse Row format>"
      ]
     },
     "execution_count": 68,
     "metadata": {},
     "output_type": "execute_result"
    }
   ],
   "source": [
    "X_test_joined = [ ' '.join(words) for words in X_test_okt ]\n",
    "X_test_tfidf = tfidf_vectorizer.transform(X_test_joined)\n",
    "X_test_tfidf"
   ]
  },
  {
   "cell_type": "code",
   "execution_count": 69,
   "id": "7ffda4b5",
   "metadata": {},
   "outputs": [
    {
     "data": {
      "text/plain": [
       "0.8238341968911918"
      ]
     },
     "execution_count": 69,
     "metadata": {},
     "output_type": "execute_result"
    }
   ],
   "source": [
    "from sklearn.metrics import accuracy_score\n",
    "\n",
    "accuracy_score(best_lr.predict(X_test_tfidf), y_test)"
   ]
  },
  {
   "cell_type": "code",
   "execution_count": 70,
   "id": "a8c400eb-68a7-4164-a989-9ab0e318771b",
   "metadata": {},
   "outputs": [],
   "source": [
    "def sentiment_predict(sentence):\n",
    "  sentence_norm_stem = okt.morphs(sentence, stem=True, norm=True)\n",
    "  sentence_test = ' '.join(sentence_norm_stem)\n",
    "\n",
    "  text_vector = tfidf_vectorizer.transform([sentence_test])\n",
    "\n",
    "  pred = best_lr.predict(text_vector)\n",
    "  print(sentence, \"====>\", pred)"
   ]
  },
  {
   "cell_type": "code",
   "execution_count": 74,
   "id": "33ea2326-8969-49c7-a739-49236ac62e0a",
   "metadata": {},
   "outputs": [
    {
     "name": "stdin",
     "output_type": "stream",
     "text": [
      " 웨이팅은 길어서 힘들었지만 정말 맛있습니다 가치가 있음\n"
     ]
    },
    {
     "name": "stdout",
     "output_type": "stream",
     "text": [
      "웨이팅은 길어서 힘들었지만 정말 맛있습니다 가치가 있음 ====> [1]\n"
     ]
    }
   ],
   "source": [
    "txt = input()\n",
    "sentiment_predict(txt)"
   ]
  }
 ],
 "metadata": {
  "kernelspec": {
   "display_name": "Python 3 (ipykernel)",
   "language": "python",
   "name": "python3"
  },
  "language_info": {
   "codemirror_mode": {
    "name": "ipython",
    "version": 3
   },
   "file_extension": ".py",
   "mimetype": "text/x-python",
   "name": "python",
   "nbconvert_exporter": "python",
   "pygments_lexer": "ipython3",
   "version": "3.8.18"
  }
 },
 "nbformat": 4,
 "nbformat_minor": 5
}
