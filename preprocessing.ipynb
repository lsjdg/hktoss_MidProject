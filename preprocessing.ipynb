{
 "cells": [
  {
   "cell_type": "code",
   "execution_count": 75,
   "id": "37312c7f-b97a-4e8f-a248-b11d0af605b3",
   "metadata": {},
   "outputs": [
    {
     "name": "stdout",
     "output_type": "stream",
     "text": [
      "Requirement already satisfied: openpyxl in c:\\users\\user\\desktop\\hktoss_midproject\\venv\\lib\\site-packages (3.1.5)\n",
      "Requirement already satisfied: et-xmlfile in c:\\users\\user\\desktop\\hktoss_midproject\\venv\\lib\\site-packages (from openpyxl) (1.1.0)\n"
     ]
    }
   ],
   "source": [
    "! pip install openpyxl"
   ]
  },
  {
   "cell_type": "code",
   "execution_count": 76,
   "id": "dc367ad8-8184-480f-8e16-5c34d1119483",
   "metadata": {},
   "outputs": [],
   "source": [
    "import pandas as pd\n",
    "import numpy as np\n",
    "\n",
    "import warnings\n",
    "warnings.filterwarnings('ignore')"
   ]
  },
  {
   "cell_type": "code",
   "execution_count": 77,
   "id": "ceddaeb6-2056-4963-9a92-e66649cd0311",
   "metadata": {},
   "outputs": [
    {
     "data": {
      "text/html": [
       "<div>\n",
       "<style scoped>\n",
       "    .dataframe tbody tr th:only-of-type {\n",
       "        vertical-align: middle;\n",
       "    }\n",
       "\n",
       "    .dataframe tbody tr th {\n",
       "        vertical-align: top;\n",
       "    }\n",
       "\n",
       "    .dataframe thead th {\n",
       "        text-align: right;\n",
       "    }\n",
       "</style>\n",
       "<table border=\"1\" class=\"dataframe\">\n",
       "  <thead>\n",
       "    <tr style=\"text-align: right;\">\n",
       "      <th></th>\n",
       "      <th>Unnamed: 0</th>\n",
       "      <th>contents</th>\n",
       "      <th>point</th>\n",
       "    </tr>\n",
       "  </thead>\n",
       "  <tbody>\n",
       "    <tr>\n",
       "      <th>0</th>\n",
       "      <td>0</td>\n",
       "      <td>개맛있다\\n문제 : 면이 빨리 불어요 어차피 빨리 나오니까 추가할 거면 이따 시키세요</td>\n",
       "      <td>5</td>\n",
       "    </tr>\n",
       "    <tr>\n",
       "      <th>1</th>\n",
       "      <td>1</td>\n",
       "      <td>정말 맛있어요. \\n일본에서 먹던 맛을 살리면서도 한국인 입맛도 만족시켜주는 곳입니...</td>\n",
       "      <td>5</td>\n",
       "    </tr>\n",
       "    <tr>\n",
       "      <th>2</th>\n",
       "      <td>2</td>\n",
       "      <td>국물의 깊이, 얇은 면, 향이 진한 차슈, 그외의 토핑들 그리고 무한리필. 저는 이...</td>\n",
       "      <td>5</td>\n",
       "    </tr>\n",
       "    <tr>\n",
       "      <th>3</th>\n",
       "      <td>3</td>\n",
       "      <td>맛있더라ㅋㅋ 근데 조금 비싸더랑</td>\n",
       "      <td>5</td>\n",
       "    </tr>\n",
       "    <tr>\n",
       "      <th>4</th>\n",
       "      <td>4</td>\n",
       "      <td>너무 웨이팅이 길어요..노답..</td>\n",
       "      <td>3</td>\n",
       "    </tr>\n",
       "    <tr>\n",
       "      <th>5</th>\n",
       "      <td>5</td>\n",
       "      <td>요리에 진심인 사장님과 직원들\\n개선의견을 적극 반영하는 자세...  최고 라멘집.</td>\n",
       "      <td>5</td>\n",
       "    </tr>\n",
       "    <tr>\n",
       "      <th>6</th>\n",
       "      <td>6</td>\n",
       "      <td>지나가다 우연히 들어왔는데 라멘 찐 맛집이네용 맛있게 먹었습니당</td>\n",
       "      <td>5</td>\n",
       "    </tr>\n",
       "    <tr>\n",
       "      <th>7</th>\n",
       "      <td>7</td>\n",
       "      <td>⭐️이중 웨이팅. 캐치테이블 1차, 주문 후 2차\\n15분 정도 추가 대기함. \\n...</td>\n",
       "      <td>4</td>\n",
       "    </tr>\n",
       "    <tr>\n",
       "      <th>8</th>\n",
       "      <td>8</td>\n",
       "      <td>NaN</td>\n",
       "      <td>4</td>\n",
       "    </tr>\n",
       "    <tr>\n",
       "      <th>9</th>\n",
       "      <td>9</td>\n",
       "      <td>맑고 산뜻한걸 알겠으나  인상찌푸려질정도로 짜던데. 웨이팅 하고나서 제일 실망한집....</td>\n",
       "      <td>1</td>\n",
       "    </tr>\n",
       "  </tbody>\n",
       "</table>\n",
       "</div>"
      ],
      "text/plain": [
       "   Unnamed: 0                                           contents  point\n",
       "0           0    개맛있다\\n문제 : 면이 빨리 불어요 어차피 빨리 나오니까 추가할 거면 이따 시키세요      5\n",
       "1           1  정말 맛있어요. \\n일본에서 먹던 맛을 살리면서도 한국인 입맛도 만족시켜주는 곳입니...      5\n",
       "2           2  국물의 깊이, 얇은 면, 향이 진한 차슈, 그외의 토핑들 그리고 무한리필. 저는 이...      5\n",
       "3           3                                  맛있더라ㅋㅋ 근데 조금 비싸더랑      5\n",
       "4           4                                  너무 웨이팅이 길어요..노답..      3\n",
       "5           5     요리에 진심인 사장님과 직원들\\n개선의견을 적극 반영하는 자세...  최고 라멘집.      5\n",
       "6           6                지나가다 우연히 들어왔는데 라멘 찐 맛집이네용 맛있게 먹었습니당      5\n",
       "7           7  ⭐️이중 웨이팅. 캐치테이블 1차, 주문 후 2차\\n15분 정도 추가 대기함. \\n...      4\n",
       "8           8                                                NaN      4\n",
       "9           9  맑고 산뜻한걸 알겠으나  인상찌푸려질정도로 짜던데. 웨이팅 하고나서 제일 실망한집....      1"
      ]
     },
     "execution_count": 77,
     "metadata": {},
     "output_type": "execute_result"
    }
   ],
   "source": [
    "df = pd.read_excel(\"all_comments.xlsx\", engine='openpyxl')\n",
    "df.head(10)"
   ]
  },
  {
   "cell_type": "code",
   "execution_count": 78,
   "id": "f0616bde-905c-4433-95ca-9a5b03be0869",
   "metadata": {},
   "outputs": [
    {
     "name": "stdout",
     "output_type": "stream",
     "text": [
      "<class 'pandas.core.frame.DataFrame'>\n",
      "RangeIndex: 5003 entries, 0 to 5002\n",
      "Data columns (total 3 columns):\n",
      " #   Column      Non-Null Count  Dtype \n",
      "---  ------      --------------  ----- \n",
      " 0   Unnamed: 0  5003 non-null   int64 \n",
      " 1   contents    4365 non-null   object\n",
      " 2   point       5003 non-null   int64 \n",
      "dtypes: int64(2), object(1)\n",
      "memory usage: 117.4+ KB\n"
     ]
    }
   ],
   "source": [
    "df.info()"
   ]
  },
  {
   "cell_type": "code",
   "execution_count": 79,
   "id": "ae085cd9-c668-4243-b026-824383dc5fca",
   "metadata": {},
   "outputs": [
    {
     "data": {
      "text/plain": [
       "Unnamed: 0      0\n",
       "contents      638\n",
       "point           0\n",
       "dtype: int64"
      ]
     },
     "execution_count": 79,
     "metadata": {},
     "output_type": "execute_result"
    }
   ],
   "source": [
    "df.isnull().sum()"
   ]
  },
  {
   "cell_type": "code",
   "execution_count": 80,
   "id": "718ea8be-eb17-473d-a4f7-7db3e7058ad3",
   "metadata": {},
   "outputs": [
    {
     "name": "stdout",
     "output_type": "stream",
     "text": [
      "4310\n"
     ]
    },
    {
     "data": {
      "text/plain": [
       "Unnamed: 0    4311\n",
       "contents      4310\n",
       "point            5\n",
       "dtype: int64"
      ]
     },
     "execution_count": 80,
     "metadata": {},
     "output_type": "execute_result"
    }
   ],
   "source": [
    "print(df['contents'].nunique())\n",
    "df = df.drop_duplicates(subset=['contents'])\n",
    "df.nunique()"
   ]
  },
  {
   "cell_type": "code",
   "execution_count": 81,
   "id": "f019f830-baf0-4bdc-9780-6e2f1c2d07ea",
   "metadata": {},
   "outputs": [
    {
     "data": {
      "text/plain": [
       "np.int64(0)"
      ]
     },
     "execution_count": 81,
     "metadata": {},
     "output_type": "execute_result"
    }
   ],
   "source": [
    "df = df.dropna(how='any')\n",
    "df.isnull().values.sum()"
   ]
  },
  {
   "cell_type": "code",
   "execution_count": 82,
   "id": "73e62400-1d9a-425f-a8df-5a804560adad",
   "metadata": {},
   "outputs": [
    {
     "data": {
      "text/html": [
       "<div>\n",
       "<style scoped>\n",
       "    .dataframe tbody tr th:only-of-type {\n",
       "        vertical-align: middle;\n",
       "    }\n",
       "\n",
       "    .dataframe tbody tr th {\n",
       "        vertical-align: top;\n",
       "    }\n",
       "\n",
       "    .dataframe thead th {\n",
       "        text-align: right;\n",
       "    }\n",
       "</style>\n",
       "<table border=\"1\" class=\"dataframe\">\n",
       "  <thead>\n",
       "    <tr style=\"text-align: right;\">\n",
       "      <th></th>\n",
       "      <th>Unnamed: 0</th>\n",
       "      <th>contents</th>\n",
       "      <th>point</th>\n",
       "    </tr>\n",
       "  </thead>\n",
       "  <tbody>\n",
       "    <tr>\n",
       "      <th>0</th>\n",
       "      <td>0</td>\n",
       "      <td>개맛있다문제  면이 빨리 불어요 어차피 빨리 나오니까 추가할 거면 이따 시키세요</td>\n",
       "      <td>5</td>\n",
       "    </tr>\n",
       "    <tr>\n",
       "      <th>1</th>\n",
       "      <td>1</td>\n",
       "      <td>정말 맛있어요 일본에서 먹던 맛을 살리면서도 한국인 입맛도 만족시켜주는 곳입니다 면...</td>\n",
       "      <td>5</td>\n",
       "    </tr>\n",
       "    <tr>\n",
       "      <th>2</th>\n",
       "      <td>2</td>\n",
       "      <td>국물의 깊이 얇은 면 향이 진한 차슈 그외의 토핑들 그리고 무한리필 저는 이곳의 부...</td>\n",
       "      <td>5</td>\n",
       "    </tr>\n",
       "    <tr>\n",
       "      <th>3</th>\n",
       "      <td>3</td>\n",
       "      <td>맛있더라ㅋㅋ 근데 조금 비싸더랑</td>\n",
       "      <td>5</td>\n",
       "    </tr>\n",
       "    <tr>\n",
       "      <th>4</th>\n",
       "      <td>4</td>\n",
       "      <td>너무 웨이팅이 길어요노답</td>\n",
       "      <td>3</td>\n",
       "    </tr>\n",
       "  </tbody>\n",
       "</table>\n",
       "</div>"
      ],
      "text/plain": [
       "   Unnamed: 0                                           contents  point\n",
       "0           0       개맛있다문제  면이 빨리 불어요 어차피 빨리 나오니까 추가할 거면 이따 시키세요      5\n",
       "1           1  정말 맛있어요 일본에서 먹던 맛을 살리면서도 한국인 입맛도 만족시켜주는 곳입니다 면...      5\n",
       "2           2  국물의 깊이 얇은 면 향이 진한 차슈 그외의 토핑들 그리고 무한리필 저는 이곳의 부...      5\n",
       "3           3                                  맛있더라ㅋㅋ 근데 조금 비싸더랑      5\n",
       "4           4                                      너무 웨이팅이 길어요노답      3"
      ]
     },
     "execution_count": 82,
     "metadata": {},
     "output_type": "execute_result"
    }
   ],
   "source": [
    "import re\n",
    "\n",
    "df['contents'] = df['contents'].apply(lambda x : re.sub(\"[^ㄱ-ㅎㅏ-ㅣ가-힣 ]\", \"\", x))\n",
    "df.head()"
   ]
  },
  {
   "cell_type": "code",
   "execution_count": 83,
   "id": "64a23d3c-6264-498d-b3b3-bdf156e35aa9",
   "metadata": {},
   "outputs": [
    {
     "data": {
      "text/plain": [
       "contents\n",
       "    9\n",
       "Name: count, dtype: int64"
      ]
     },
     "execution_count": 83,
     "metadata": {},
     "output_type": "execute_result"
    }
   ],
   "source": [
    "df.loc[df['contents'] =='', 'contents'].value_counts()"
   ]
  },
  {
   "cell_type": "code",
   "execution_count": 84,
   "id": "5dcbf13d-65c3-4923-be54-5931fe04f856",
   "metadata": {},
   "outputs": [
    {
     "name": "stdout",
     "output_type": "stream",
     "text": [
      "<class 'pandas.core.frame.DataFrame'>\n",
      "Index: 4301 entries, 0 to 4998\n",
      "Data columns (total 3 columns):\n",
      " #   Column      Non-Null Count  Dtype \n",
      "---  ------      --------------  ----- \n",
      " 0   Unnamed: 0  4301 non-null   int64 \n",
      " 1   contents    4301 non-null   object\n",
      " 2   point       4301 non-null   int64 \n",
      "dtypes: int64(2), object(1)\n",
      "memory usage: 134.4+ KB\n"
     ]
    }
   ],
   "source": [
    "df['contents'].replace(\"\", np.nan, inplace=True)\n",
    "df = df.dropna(how='any')\n",
    "df.info()"
   ]
  },
  {
   "cell_type": "code",
   "execution_count": 85,
   "id": "37d8f81c-9ad3-4b53-8644-f7da728ea13b",
   "metadata": {},
   "outputs": [
    {
     "name": "stdout",
     "output_type": "stream",
     "text": [
      "<class 'pandas.core.frame.DataFrame'>\n",
      "Index: 4301 entries, 0 to 4998\n",
      "Data columns (total 3 columns):\n",
      " #   Column      Non-Null Count  Dtype \n",
      "---  ------      --------------  ----- \n",
      " 0   Unnamed: 0  4301 non-null   int64 \n",
      " 1   contents    4301 non-null   object\n",
      " 2   point       4301 non-null   int64 \n",
      "dtypes: int64(2), object(1)\n",
      "memory usage: 134.4+ KB\n"
     ]
    }
   ],
   "source": [
    "df.info()"
   ]
  },
  {
   "cell_type": "code",
   "execution_count": 86,
   "id": "d63daed7-5297-4817-b1e7-632b0932ad95",
   "metadata": {},
   "outputs": [
    {
     "data": {
      "text/plain": [
       "<Axes: xlabel='point'>"
      ]
     },
     "execution_count": 86,
     "metadata": {},
     "output_type": "execute_result"
    },
    {
     "data": {
      "image/png": "[encoded data removed]",
      "text/plain": [
       "<Figure size 640x480 with 1 Axes>"
      ]
     },
     "metadata": {},
     "output_type": "display_data"
    }
   ],
   "source": [
    "df['point'].value_counts().plot(kind='bar')"
   ]
  },
  {
   "cell_type": "code",
   "execution_count": 88,
   "id": "2e451d15-804f-4ffb-9851-d65ab39b5041",
   "metadata": {},
   "outputs": [],
   "source": [
    "df['label'] = df['point'].apply(lambda x: 0 if x in [1, 2, 3] else 1)"
   ]
  },
  {
   "cell_type": "code",
   "execution_count": 89,
   "id": "2aa15133-3f83-4e82-baa2-8d13989aaf6f",
   "metadata": {},
   "outputs": [
    {
     "data": {
      "text/plain": [
       "label\n",
       "0    822\n",
       "1    822\n",
       "Name: count, dtype: int64"
      ]
     },
     "execution_count": 89,
     "metadata": {},
     "output_type": "execute_result"
    }
   ],
   "source": [
    "negative_count = df[df['label'] == 0].shape[0]\n",
    "positive_sample = df[df['label'] == 1].sample(n=negative_count, random_state=42)\n",
    "df = pd.concat([df[df['label'] == 0], positive_sample])\n",
    "df['label'].value_counts()"
   ]
  },
  {
   "cell_type": "code",
   "execution_count": 90,
   "id": "be0320a1-8054-4eaa-beeb-a9ff945f4b7a",
   "metadata": {},
   "outputs": [
    {
     "data": {
      "text/html": [
       "<div>\n",
       "<style scoped>\n",
       "    .dataframe tbody tr th:only-of-type {\n",
       "        vertical-align: middle;\n",
       "    }\n",
       "\n",
       "    .dataframe tbody tr th {\n",
       "        vertical-align: top;\n",
       "    }\n",
       "\n",
       "    .dataframe thead th {\n",
       "        text-align: right;\n",
       "    }\n",
       "</style>\n",
       "<table border=\"1\" class=\"dataframe\">\n",
       "  <thead>\n",
       "    <tr style=\"text-align: right;\">\n",
       "      <th></th>\n",
       "      <th>Unnamed: 0</th>\n",
       "      <th>contents</th>\n",
       "      <th>point</th>\n",
       "      <th>label</th>\n",
       "    </tr>\n",
       "  </thead>\n",
       "  <tbody>\n",
       "    <tr>\n",
       "      <th>4753</th>\n",
       "      <td>4753</td>\n",
       "      <td>음식 나오는 속도 빠르고 붓카케우동 시켰는데 면발 쫄깃탱탱하고 맛있습니다</td>\n",
       "      <td>5</td>\n",
       "      <td>1</td>\n",
       "    </tr>\n",
       "    <tr>\n",
       "      <th>2420</th>\n",
       "      <td>2420</td>\n",
       "      <td>책 엄청 많아서 재밌는 거 골라서 읽으면서 커피 마시는데 시간 진짜 훅 가네요  커...</td>\n",
       "      <td>5</td>\n",
       "      <td>1</td>\n",
       "    </tr>\n",
       "    <tr>\n",
       "      <th>475</th>\n",
       "      <td>475</td>\n",
       "      <td>유자시오</td>\n",
       "      <td>5</td>\n",
       "      <td>1</td>\n",
       "    </tr>\n",
       "    <tr>\n",
       "      <th>2266</th>\n",
       "      <td>2266</td>\n",
       "      <td>맛있어요 서비스도 주시구 친절하세여</td>\n",
       "      <td>5</td>\n",
       "      <td>1</td>\n",
       "    </tr>\n",
       "    <tr>\n",
       "      <th>4431</th>\n",
       "      <td>4431</td>\n",
       "      <td>고기도 구워주시구 파김치랑 해물탕 소주 안주 좋아요 ㅎㅎ</td>\n",
       "      <td>5</td>\n",
       "      <td>1</td>\n",
       "    </tr>\n",
       "    <tr>\n",
       "      <th>...</th>\n",
       "      <td>...</td>\n",
       "      <td>...</td>\n",
       "      <td>...</td>\n",
       "      <td>...</td>\n",
       "    </tr>\n",
       "    <tr>\n",
       "      <th>3769</th>\n",
       "      <td>3769</td>\n",
       "      <td>비쥬얼이 장난아니에요 여기곱창 때깔이 아주 곱습니다맛도 최공</td>\n",
       "      <td>5</td>\n",
       "      <td>1</td>\n",
       "    </tr>\n",
       "    <tr>\n",
       "      <th>3265</th>\n",
       "      <td>3265</td>\n",
       "      <td>황곱모듬구이 먹었어요양이 알차고 너무 맛있어요</td>\n",
       "      <td>5</td>\n",
       "      <td>1</td>\n",
       "    </tr>\n",
       "    <tr>\n",
       "      <th>4742</th>\n",
       "      <td>4742</td>\n",
       "      <td>중학교 일학년 때 홍대에 현장체험학습으로 연극보고 친구들이랑 먹었던 우동집 그 땐 ...</td>\n",
       "      <td>5</td>\n",
       "      <td>1</td>\n",
       "    </tr>\n",
       "    <tr>\n",
       "      <th>316</th>\n",
       "      <td>316</td>\n",
       "      <td>일본 거주했지만 일본에도 여기보다 맛있는 가게는 손에 꼽을정도 밖에없음 한국 탑 에...</td>\n",
       "      <td>5</td>\n",
       "      <td>1</td>\n",
       "    </tr>\n",
       "    <tr>\n",
       "      <th>2036</th>\n",
       "      <td>2036</td>\n",
       "      <td>멋져요 분위기가 좋아요 사진 찍기 좋아요이색카페</td>\n",
       "      <td>5</td>\n",
       "      <td>1</td>\n",
       "    </tr>\n",
       "  </tbody>\n",
       "</table>\n",
       "<p>822 rows × 4 columns</p>\n",
       "</div>"
      ],
      "text/plain": [
       "      Unnamed: 0                                           contents  point  \\\n",
       "4753        4753           음식 나오는 속도 빠르고 붓카케우동 시켰는데 면발 쫄깃탱탱하고 맛있습니다      5   \n",
       "2420        2420  책 엄청 많아서 재밌는 거 골라서 읽으면서 커피 마시는데 시간 진짜 훅 가네요  커...      5   \n",
       "475          475                                               유자시오      5   \n",
       "2266        2266                                맛있어요 서비스도 주시구 친절하세여      5   \n",
       "4431        4431                    고기도 구워주시구 파김치랑 해물탕 소주 안주 좋아요 ㅎㅎ      5   \n",
       "...          ...                                                ...    ...   \n",
       "3769        3769                  비쥬얼이 장난아니에요 여기곱창 때깔이 아주 곱습니다맛도 최공      5   \n",
       "3265        3265                          황곱모듬구이 먹었어요양이 알차고 너무 맛있어요      5   \n",
       "4742        4742  중학교 일학년 때 홍대에 현장체험학습으로 연극보고 친구들이랑 먹었던 우동집 그 땐 ...      5   \n",
       "316          316  일본 거주했지만 일본에도 여기보다 맛있는 가게는 손에 꼽을정도 밖에없음 한국 탑 에...      5   \n",
       "2036        2036                        멋져요 분위기가 좋아요 사진 찍기 좋아요이색카페       5   \n",
       "\n",
       "      label  \n",
       "4753      1  \n",
       "2420      1  \n",
       "475       1  \n",
       "2266      1  \n",
       "4431      1  \n",
       "...     ...  \n",
       "3769      1  \n",
       "3265      1  \n",
       "4742      1  \n",
       "316       1  \n",
       "2036      1  \n",
       "\n",
       "[822 rows x 4 columns]"
      ]
     },
     "execution_count": 90,
     "metadata": {},
     "output_type": "execute_result"
    }
   ],
   "source": [
    "df.loc[df['label']== 1]"
   ]
  },
  {
   "cell_type": "code",
   "execution_count": 92,
   "id": "0f41ad76-a94c-44b5-93a4-9a29ee5f5c64",
   "metadata": {},
   "outputs": [],
   "source": [
    "df.to_excel(\"preprocessing_final.xlsx\")"
   ]
  }
 ],
 "metadata": {
  "kernelspec": {
   "display_name": "Python 3 (ipykernel)",
   "language": "python",
   "name": "python3"
  },
  "language_info": {
   "codemirror_mode": {
    "name": "ipython",
    "version": 3
   },
   "file_extension": ".py",
   "mimetype": "text/x-python",
   "name": "python",
   "nbconvert_exporter": "python",
   "pygments_lexer": "ipython3",
   "version": "3.11.7"
  }
 },
 "nbformat": 4,
 "nbformat_minor": 5
}
